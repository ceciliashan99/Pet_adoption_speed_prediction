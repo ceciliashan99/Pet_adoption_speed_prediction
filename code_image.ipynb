{
 "cells": [
  {
   "cell_type": "markdown",
   "metadata": {},
   "source": [
    "### Import the data"
   ]
  },
  {
   "cell_type": "code",
   "execution_count": 893,
   "metadata": {},
   "outputs": [
    {
     "name": "stdout",
     "output_type": "stream",
     "text": [
      "6861 rows have been removed.\n",
      "                       Name  Age  Breed1  Breed2  Gender  Color1  Color2  \\\n",
      "2                    Brisco    1     307       0       1       2       7   \n",
      "3                      Miko    4     307       0       2       1       2   \n",
      "4                    Hunter    1     307       0       1       1       0   \n",
      "7   Siu Pak & Her 6 Puppies    0     307       0       2       1       2   \n",
      "10                     Bear    2     307       0       1       1       2   \n",
      "\n",
      "    Color3  MaturitySize  FurLength  ...  Health  Quantity  Fee  State  \\\n",
      "2        0             2          2  ...       1         1    0  41326   \n",
      "3        0             2          1  ...       1         1  150  41401   \n",
      "4        0             2          1  ...       1         1    0  41326   \n",
      "7        7             2          1  ...       1         6    0  41326   \n",
      "10       7             2          1  ...       1         1    0  41401   \n",
      "\n",
      "                           RescuerID  VideoAmt  \\\n",
      "2   fa90fa5b1ee11c86938398b60abc32cb         0   \n",
      "3   9238e4f44c71a75282e62f7136c6b240         0   \n",
      "4   95481e953f8aed9ec3d16fc4509537e8         0   \n",
      "7   1fba5f6e5480946254590d48f9c5198d         0   \n",
      "10  9238e4f44c71a75282e62f7136c6b240         0   \n",
      "\n",
      "                                          Description      PetID  PhotoAmt  \\\n",
      "2   Their pregnant mother was dumped by her irresp...  3422e4906       7.0   \n",
      "3   Good guard dog, very alert, active, obedience ...  5842f1ff5       8.0   \n",
      "4   This handsome yet cute boy is up for adoption....  850a43f90       3.0   \n",
      "7   Siu Pak just give birth on 13/6/10 to 6puppies...  97aa9eeac       9.0   \n",
      "10  For serious adopter, please do sms or call for...  8b693ca84       7.0   \n",
      "\n",
      "   AdoptionSpeed  \n",
      "2              3  \n",
      "3              2  \n",
      "4              2  \n",
      "7              3  \n",
      "10             1  \n",
      "\n",
      "[5 rows x 23 columns]\n"
     ]
    }
   ],
   "source": [
    "#Import the train and test dataset\n",
    "import pandas as pd\n",
    "\n",
    "data = pd.read_csv('train.csv')\n",
    "\n",
    "breed = pd.read_csv('breed_labels.csv')\n",
    "state = pd.read_csv('state_labels.csv')\n",
    "color = pd.read_csv('color_labels.csv')\n",
    "\n",
    "#There are two type of pets (dog=1, cat=2), we only consider the dog in this dataset, drop the cats data\n",
    "print(len(data[data.Type == 2]),\"rows have been removed.\")\n",
    "data.drop(data[data.Type == 2].index, inplace=True)\n",
    "data = data.drop('Type', axis = 1)\n",
    "\n",
    "print(data.head())"
   ]
  },
  {
   "cell_type": "markdown",
   "metadata": {},
   "source": [
    "### Exploring the Tabular dataset"
   ]
  },
  {
   "cell_type": "code",
   "execution_count": 894,
   "metadata": {},
   "outputs": [
    {
     "name": "stdout",
     "output_type": "stream",
     "text": [
      "The shape of the whole set: (8132, 23)\n",
      "\n",
      "The columns name:  ['Name', 'Age', 'Breed1', 'Breed2', 'Gender', 'Color1', 'Color2', 'Color3', 'MaturitySize', 'FurLength', 'Vaccinated', 'Dewormed', 'Sterilized', 'Health', 'Quantity', 'Fee', 'State', 'RescuerID', 'VideoAmt', 'Description', 'PetID', 'PhotoAmt', 'AdoptionSpeed']\n"
     ]
    }
   ],
   "source": [
    "print(\"The shape of the whole set:\",data.shape)\n",
    "print(\"\")\n",
    "print(\"The columns name: \",list(data.columns))"
   ]
  },
  {
   "cell_type": "markdown",
   "metadata": {},
   "source": [
    "#### Target Variable: AdoptionSpeed"
   ]
  },
  {
   "cell_type": "markdown",
   "metadata": {},
   "source": [
    "- 0 - Pet was adopted on the same day as it was listed.\n",
    "- 1 - Pet was adopted between 1 and 7 days (1st week) after being listed.\n",
    "- 2 - Pet was adopted between 8 and 30 days (1st month) after being listed.\n",
    "- 3 - Pet was adopted between 31 and 90 days (2nd & 3rd month) after being listed.\n",
    "- 4 - No adoption after 100 days of being listed. (There are no pets in this dataset that waited between 90 and 100 days)."
   ]
  },
  {
   "cell_type": "code",
   "execution_count": 895,
   "metadata": {},
   "outputs": [
    {
     "data": {
      "image/png": "[encoded data removed]",
      "text/plain": [
       "<Figure size 720x504 with 1 Axes>"
      ]
     },
     "metadata": {
      "needs_background": "light"
     },
     "output_type": "display_data"
    }
   ],
   "source": [
    "import matplotlib.pyplot as plt\n",
    "import seaborn as sns\n",
    "\n",
    "plt.figure(figsize=(10, 7));\n",
    "g = sns.countplot(x='AdoptionSpeed', data = data)\n",
    "ax=g.axes\n",
    "for p in ax.patches:\n",
    "     ax.annotate(f\"{p.get_height() * 100 / data.shape[0]:.2f}%\", (p.get_x() + p.get_width() / 2., p.get_height()),\n",
    "         ha='center', va='center', fontsize=10, color='black',  xytext=(0, 10),\n",
    "         textcoords='offset points') "
   ]
  },
  {
   "cell_type": "markdown",
   "metadata": {},
   "source": [
    "From the graph, we can see that only a few dog (2.09%) are adopted immediately. Most of the dogs are adopted within one month (17.65% + 26.61%), unfortunately about 30% pets have been adopted yet."
   ]
  },
  {
   "cell_type": "markdown",
   "metadata": {},
   "source": [
    "#### PetID - Unique HashID for pet profile"
   ]
  },
  {
   "cell_type": "code",
   "execution_count": 896,
   "metadata": {},
   "outputs": [
    {
     "name": "stdout",
     "output_type": "stream",
     "text": [
      "2     3422e4906\n",
      "3     5842f1ff5\n",
      "4     850a43f90\n",
      "7     97aa9eeac\n",
      "10    8b693ca84\n",
      "Name: PetID, dtype: object\n"
     ]
    },
    {
     "data": {
      "text/plain": [
       "(8132, 22)"
      ]
     },
     "execution_count": 896,
     "metadata": {},
     "output_type": "execute_result"
    }
   ],
   "source": [
    "print(data['PetID'].head())\n",
    "\n",
    "#Not useful in the model, drop\n",
    "data = data.drop('PetID',axis = 1)\n",
    "data.shape"
   ]
  },
  {
   "cell_type": "markdown",
   "metadata": {},
   "source": [
    "#### Name - Name of pet"
   ]
  },
  {
   "cell_type": "code",
   "execution_count": 897,
   "metadata": {},
   "outputs": [
    {
     "name": "stdout",
     "output_type": "stream",
     "text": [
      "There are 649 null values in Name column.\n",
      "There are 5042 unique names in Name column.\n",
      "\n",
      "Top 5 popular dog name:\n",
      "Lucky      48\n",
      "Puppy      45\n",
      "Brownie    44\n",
      "Max        35\n",
      "Baby       32\n",
      "Name: Name, dtype: int64\n"
     ]
    }
   ],
   "source": [
    "print(\"There are\",data.Name.isnull().sum(),\"null values in Name column.\")\n",
    "name_series = data['Name'].value_counts()\n",
    "print(\"There are\",len(name_series),\"unique names in Name column.\\n\")\n",
    "print(\"Top 5 popular dog name:\")\n",
    "print(name_series.head())"
   ]
  },
  {
   "cell_type": "code",
   "execution_count": 898,
   "metadata": {},
   "outputs": [
    {
     "data": {
      "text/html": [
       "<div>\n",
       "<style scoped>\n",
       "    .dataframe tbody tr th:only-of-type {\n",
       "        vertical-align: middle;\n",
       "    }\n",
       "\n",
       "    .dataframe tbody tr th {\n",
       "        vertical-align: top;\n",
       "    }\n",
       "\n",
       "    .dataframe thead th {\n",
       "        text-align: right;\n",
       "    }\n",
       "</style>\n",
       "<table border=\"1\" class=\"dataframe\">\n",
       "  <thead>\n",
       "    <tr style=\"text-align: right;\">\n",
       "      <th>Have_Name</th>\n",
       "      <th>0</th>\n",
       "      <th>1</th>\n",
       "    </tr>\n",
       "    <tr>\n",
       "      <th>AdoptionSpeed</th>\n",
       "      <th></th>\n",
       "      <th></th>\n",
       "    </tr>\n",
       "  </thead>\n",
       "  <tbody>\n",
       "    <tr>\n",
       "      <td>0</td>\n",
       "      <td>15</td>\n",
       "      <td>155</td>\n",
       "    </tr>\n",
       "    <tr>\n",
       "      <td>1</td>\n",
       "      <td>125</td>\n",
       "      <td>1310</td>\n",
       "    </tr>\n",
       "    <tr>\n",
       "      <td>2</td>\n",
       "      <td>157</td>\n",
       "      <td>2007</td>\n",
       "    </tr>\n",
       "    <tr>\n",
       "      <td>3</td>\n",
       "      <td>102</td>\n",
       "      <td>1847</td>\n",
       "    </tr>\n",
       "    <tr>\n",
       "      <td>4</td>\n",
       "      <td>258</td>\n",
       "      <td>2156</td>\n",
       "    </tr>\n",
       "  </tbody>\n",
       "</table>\n",
       "</div>"
      ],
      "text/plain": [
       "Have_Name        0     1\n",
       "AdoptionSpeed           \n",
       "0               15   155\n",
       "1              125  1310\n",
       "2              157  2007\n",
       "3              102  1847\n",
       "4              258  2156"
      ]
     },
     "execution_count": 898,
     "metadata": {},
     "output_type": "execute_result"
    }
   ],
   "source": [
    "data['Have_Name'] = 1\n",
    "data.loc[data.Name.isnull(),'Have_Name'] =0\n",
    "data.loc[data.Name=='No Name Yet','Have_Name'] =0\n",
    "\n",
    "name_crosstab = pd.crosstab(data['AdoptionSpeed'],data['Have_Name'])\n",
    "name_crosstab"
   ]
  },
  {
   "cell_type": "code",
   "execution_count": 899,
   "metadata": {},
   "outputs": [
    {
     "name": "stdout",
     "output_type": "stream",
     "text": [
      "P-value of chi-square test: 2.188348676518212e-09\n"
     ]
    }
   ],
   "source": [
    "from scipy.stats import chi2_contingency\n",
    "\n",
    "name_crosstab = pd.crosstab(data['AdoptionSpeed'],data['Have_Name'])\n",
    "chi_val, p_val, dof, expected =  chi2_contingency(name_crosstab)\n",
    "print(\"P-value of chi-square test:\",p_val)\n",
    "#p-value <0.05, Reject the null hypothesis that Type and AdoptionSpeed is independent"
   ]
  },
  {
   "cell_type": "markdown",
   "metadata": {},
   "source": [
    "Chi-Square Test between Have_Name and AdoptionSpeed <= 0.05, we reject the H0 (they are independent). As they are related, instead of using their name as attribute, we use the categorical variable - Have_Name and drop Name attribute."
   ]
  },
  {
   "cell_type": "code",
   "execution_count": 900,
   "metadata": {},
   "outputs": [
    {
     "data": {
      "text/plain": [
       "(8132, 22)"
      ]
     },
     "execution_count": 900,
     "metadata": {},
     "output_type": "execute_result"
    }
   ],
   "source": [
    "#Too many empty value, textual variable is hard to process, drop this column\n",
    "data = data.drop('Name',axis = 1)\n",
    "data.shape"
   ]
  },
  {
   "cell_type": "markdown",
   "metadata": {},
   "source": [
    "#### Age - age of pet"
   ]
  },
  {
   "cell_type": "code",
   "execution_count": 901,
   "metadata": {},
   "outputs": [
    {
     "data": {
      "image/png": "[encoded data removed]",
      "text/plain": [
       "<Figure size 432x288 with 1 Axes>"
      ]
     },
     "metadata": {
      "needs_background": "light"
     },
     "output_type": "display_data"
    }
   ],
   "source": [
    "import matplotlib.pyplot as plt\n",
    "\n",
    "plt.hist(data['Age'], density=True, bins=30)  # density=False would make counts\n",
    "plt.ylabel('Probability')\n",
    "plt.xlabel('Data');"
   ]
  },
  {
   "cell_type": "code",
   "execution_count": 902,
   "metadata": {},
   "outputs": [
    {
     "name": "stdout",
     "output_type": "stream",
     "text": [
      "There are total 8132 pets, 0.8634 of them are < 30 year olds.\n",
      "\n",
      "1111 rows have been removed.\n",
      "(7021, 22)\n"
     ]
    }
   ],
   "source": [
    "print(\"There are total\",len(data),\"pets,\",round(len(data[data.Age<=30])/len(data),4),\"of them are < 30 year olds.\\n\")\n",
    "\n",
    "\n",
    "#Drop the row bigger than 30 years old, not in line with commen sense.\n",
    "print(len(data[data.Age> 30]),\"rows have been removed.\")\n",
    "data.drop(data[data.Age > 30].index, inplace=True)\n",
    "print(data.shape)"
   ]
  },
  {
   "cell_type": "code",
   "execution_count": 903,
   "metadata": {},
   "outputs": [
    {
     "name": "stdout",
     "output_type": "stream",
     "text": [
      "Requirement already satisfied: plotly in /opt/anaconda3/lib/python3.7/site-packages (5.3.1)\n",
      "Requirement already satisfied: six in /opt/anaconda3/lib/python3.7/site-packages (from plotly) (1.15.0)\n",
      "Requirement already satisfied: tenacity>=6.2.0 in /opt/anaconda3/lib/python3.7/site-packages (from plotly) (8.0.1)\n",
      "Note: you may need to restart the kernel to use updated packages.\n"
     ]
    }
   ],
   "source": [
    "pip install plotly"
   ]
  },
  {
   "cell_type": "code",
   "execution_count": 904,
   "metadata": {},
   "outputs": [
    {
     "data": {
      "application/vnd.plotly.v1+json": {
       "config": {
        "linkText": "Export to plot.ly",
        "plotlyServerURL": "https://plot.ly",
        "showLink": false
       },
       "data": [
        {
         "name": "0",
         "type": "scatter",
         "x": [
          0,
          1,
          2,
          3,
          4,
          5,
          6,
          7,
          8,
          9,
          10,
          11,
          12,
          13,
          14,
          15,
          17,
          18,
          21,
          22,
          23,
          24,
          30
         ],
         "y": [
          3,
          19,
          44,
          13,
          6,
          2,
          5,
          1,
          1,
          1,
          2,
          2,
          16,
          2,
          3,
          2,
          2,
          3,
          1,
          1,
          1,
          9,
          2
         ]
        },
        {
         "name": "1",
         "type": "scatter",
         "x": [
          0,
          1,
          2,
          3,
          4,
          5,
          6,
          7,
          8,
          9,
          10,
          11,
          12,
          13,
          14,
          15,
          16,
          17,
          18,
          19,
          20,
          21,
          22,
          24,
          25,
          27,
          28,
          30
         ],
         "y": [
          24,
          289,
          400,
          151,
          67,
          34,
          30,
          15,
          10,
          12,
          10,
          4,
          52,
          3,
          6,
          7,
          6,
          5,
          19,
          3,
          4,
          2,
          1,
          71,
          2,
          2,
          2,
          4
         ]
        },
        {
         "name": "2",
         "type": "scatter",
         "x": [
          0,
          1,
          2,
          3,
          4,
          5,
          6,
          7,
          8,
          9,
          10,
          11,
          12,
          13,
          14,
          15,
          16,
          17,
          18,
          19,
          20,
          21,
          22,
          24,
          25,
          27,
          29,
          30
         ],
         "y": [
          25,
          443,
          635,
          270,
          101,
          58,
          32,
          20,
          41,
          30,
          17,
          8,
          97,
          7,
          1,
          9,
          1,
          4,
          17,
          4,
          2,
          1,
          4,
          68,
          1,
          2,
          3,
          6
         ]
        },
        {
         "name": "3",
         "type": "scatter",
         "x": [
          0,
          1,
          2,
          3,
          4,
          5,
          6,
          7,
          8,
          9,
          10,
          11,
          12,
          13,
          14,
          15,
          16,
          17,
          18,
          19,
          20,
          21,
          22,
          24,
          27,
          28,
          29,
          30
         ],
         "y": [
          20,
          341,
          482,
          253,
          123,
          53,
          57,
          32,
          35,
          19,
          17,
          9,
          103,
          4,
          6,
          6,
          3,
          7,
          16,
          1,
          5,
          5,
          3,
          102,
          2,
          1,
          4,
          10
         ]
        },
        {
         "name": "4",
         "type": "scatter",
         "x": [
          0,
          1,
          2,
          3,
          4,
          5,
          6,
          7,
          8,
          9,
          10,
          11,
          12,
          13,
          14,
          15,
          16,
          17,
          18,
          19,
          20,
          21,
          22,
          23,
          24,
          25,
          26,
          27,
          28,
          29,
          30
         ],
         "y": [
          13,
          196,
          423,
          252,
          178,
          93,
          99,
          52,
          70,
          37,
          30,
          18,
          214,
          7,
          14,
          21,
          11,
          17,
          33,
          8,
          7,
          3,
          3,
          1,
          187,
          1,
          7,
          5,
          3,
          6,
          10
         ]
        }
       ],
       "layout": {
        "template": {
         "data": {
          "bar": [
           {
            "error_x": {
             "color": "#2a3f5f"
            },
            "error_y": {
             "color": "#2a3f5f"
            },
            "marker": {
             "line": {
              "color": "#E5ECF6",
              "width": 0.5
             },
             "pattern": {
              "fillmode": "overlay",
              "size": 10,
              "solidity": 0.2
             }
            },
            "type": "bar"
           }
          ],
          "barpolar": [
           {
            "marker": {
             "line": {
              "color": "#E5ECF6",
              "width": 0.5
             },
             "pattern": {
              "fillmode": "overlay",
              "size": 10,
              "solidity": 0.2
             }
            },
            "type": "barpolar"
           }
          ],
          "carpet": [
           {
            "aaxis": {
             "endlinecolor": "#2a3f5f",
             "gridcolor": "white",
             "linecolor": "white",
             "minorgridcolor": "white",
             "startlinecolor": "#2a3f5f"
            },
            "baxis": {
             "endlinecolor": "#2a3f5f",
             "gridcolor": "white",
             "linecolor": "white",
             "minorgridcolor": "white",
             "startlinecolor": "#2a3f5f"
            },
            "type": "carpet"
           }
          ],
          "choropleth": [
           {
            "colorbar": {
             "outlinewidth": 0,
             "ticks": ""
            },
            "type": "choropleth"
           }
          ],
          "contour": [
           {
            "colorbar": {
             "outlinewidth": 0,
             "ticks": ""
            },
            "colorscale": [
             [
              0,
              "#0d0887"
             ],
             [
              0.1111111111111111,
              "#46039f"
             ],
             [
              0.2222222222222222,
              "#7201a8"
             ],
             [
              0.3333333333333333,
              "#9c179e"
             ],
             [
              0.4444444444444444,
              "#bd3786"
             ],
             [
              0.5555555555555556,
              "#d8576b"
             ],
             [
              0.6666666666666666,
              "#ed7953"
             ],
             [
              0.7777777777777778,
              "#fb9f3a"
             ],
             [
              0.8888888888888888,
              "#fdca26"
             ],
             [
              1,
              "#f0f921"
             ]
            ],
            "type": "contour"
           }
          ],
          "contourcarpet": [
           {
            "colorbar": {
             "outlinewidth": 0,
             "ticks": ""
            },
            "type": "contourcarpet"
           }
          ],
          "heatmap": [
           {
            "colorbar": {
             "outlinewidth": 0,
             "ticks": ""
            },
            "colorscale": [
             [
              0,
              "#0d0887"
             ],
             [
              0.1111111111111111,
              "#46039f"
             ],
             [
              0.2222222222222222,
              "#7201a8"
             ],
             [
              0.3333333333333333,
              "#9c179e"
             ],
             [
              0.4444444444444444,
              "#bd3786"
             ],
             [
              0.5555555555555556,
              "#d8576b"
             ],
             [
              0.6666666666666666,
              "#ed7953"
             ],
             [
              0.7777777777777778,
              "#fb9f3a"
             ],
             [
              0.8888888888888888,
              "#fdca26"
             ],
             [
              1,
              "#f0f921"
             ]
            ],
            "type": "heatmap"
           }
          ],
          "heatmapgl": [
           {
            "colorbar": {
             "outlinewidth": 0,
             "ticks": ""
            },
            "colorscale": [
             [
              0,
              "#0d0887"
             ],
             [
              0.1111111111111111,
              "#46039f"
             ],
             [
              0.2222222222222222,
              "#7201a8"
             ],
             [
              0.3333333333333333,
              "#9c179e"
             ],
             [
              0.4444444444444444,
              "#bd3786"
             ],
             [
              0.5555555555555556,
              "#d8576b"
             ],
             [
              0.6666666666666666,
              "#ed7953"
             ],
             [
              0.7777777777777778,
              "#fb9f3a"
             ],
             [
              0.8888888888888888,
              "#fdca26"
             ],
             [
              1,
              "#f0f921"
             ]
            ],
            "type": "heatmapgl"
           }
          ],
          "histogram": [
           {
            "marker": {
             "pattern": {
              "fillmode": "overlay",
              "size": 10,
              "solidity": 0.2
             }
            },
            "type": "histogram"
           }
          ],
          "histogram2d": [
           {
            "colorbar": {
             "outlinewidth": 0,
             "ticks": ""
            },
            "colorscale": [
             [
              0,
              "#0d0887"
             ],
             [
              0.1111111111111111,
              "#46039f"
             ],
             [
              0.2222222222222222,
              "#7201a8"
             ],
             [
              0.3333333333333333,
              "#9c179e"
             ],
             [
              0.4444444444444444,
              "#bd3786"
             ],
             [
              0.5555555555555556,
              "#d8576b"
             ],
             [
              0.6666666666666666,
              "#ed7953"
             ],
             [
              0.7777777777777778,
              "#fb9f3a"
             ],
             [
              0.8888888888888888,
              "#fdca26"
             ],
             [
              1,
              "#f0f921"
             ]
            ],
            "type": "histogram2d"
           }
          ],
          "histogram2dcontour": [
           {
            "colorbar": {
             "outlinewidth": 0,
             "ticks": ""
            },
            "colorscale": [
             [
              0,
              "#0d0887"
             ],
             [
              0.1111111111111111,
              "#46039f"
             ],
             [
              0.2222222222222222,
              "#7201a8"
             ],
             [
              0.3333333333333333,
              "#9c179e"
             ],
             [
              0.4444444444444444,
              "#bd3786"
             ],
             [
              0.5555555555555556,
              "#d8576b"
             ],
             [
              0.6666666666666666,
              "#ed7953"
             ],
             [
              0.7777777777777778,
              "#fb9f3a"
             ],
             [
              0.8888888888888888,
              "#fdca26"
             ],
             [
              1,
              "#f0f921"
             ]
            ],
            "type": "histogram2dcontour"
           }
          ],
          "mesh3d": [
           {
            "colorbar": {
             "outlinewidth": 0,
             "ticks": ""
            },
            "type": "mesh3d"
           }
          ],
          "parcoords": [
           {
            "line": {
             "colorbar": {
              "outlinewidth": 0,
              "ticks": ""
             }
            },
            "type": "parcoords"
           }
          ],
          "pie": [
           {
            "automargin": true,
            "type": "pie"
           }
          ],
          "scatter": [
           {
            "marker": {
             "colorbar": {
              "outlinewidth": 0,
              "ticks": ""
             }
            },
            "type": "scatter"
           }
          ],
          "scatter3d": [
           {
            "line": {
             "colorbar": {
              "outlinewidth": 0,
              "ticks": ""
             }
            },
            "marker": {
             "colorbar": {
              "outlinewidth": 0,
              "ticks": ""
             }
            },
            "type": "scatter3d"
           }
          ],
          "scattercarpet": [
           {
            "marker": {
             "colorbar": {
              "outlinewidth": 0,
              "ticks": ""
             }
            },
            "type": "scattercarpet"
           }
          ],
          "scattergeo": [
           {
            "marker": {
             "colorbar": {
              "outlinewidth": 0,
              "ticks": ""
             }
            },
            "type": "scattergeo"
           }
          ],
          "scattergl": [
           {
            "marker": {
             "colorbar": {
              "outlinewidth": 0,
              "ticks": ""
             }
            },
            "type": "scattergl"
           }
          ],
          "scattermapbox": [
           {
            "marker": {
             "colorbar": {
              "outlinewidth": 0,
              "ticks": ""
             }
            },
            "type": "scattermapbox"
           }
          ],
          "scatterpolar": [
           {
            "marker": {
             "colorbar": {
              "outlinewidth": 0,
              "ticks": ""
             }
            },
            "type": "scatterpolar"
           }
          ],
          "scatterpolargl": [
           {
            "marker": {
             "colorbar": {
              "outlinewidth": 0,
              "ticks": ""
             }
            },
            "type": "scatterpolargl"
           }
          ],
          "scatterternary": [
           {
            "marker": {
             "colorbar": {
              "outlinewidth": 0,
              "ticks": ""
             }
            },
            "type": "scatterternary"
           }
          ],
          "surface": [
           {
            "colorbar": {
             "outlinewidth": 0,
             "ticks": ""
            },
            "colorscale": [
             [
              0,
              "#0d0887"
             ],
             [
              0.1111111111111111,
              "#46039f"
             ],
             [
              0.2222222222222222,
              "#7201a8"
             ],
             [
              0.3333333333333333,
              "#9c179e"
             ],
             [
              0.4444444444444444,
              "#bd3786"
             ],
             [
              0.5555555555555556,
              "#d8576b"
             ],
             [
              0.6666666666666666,
              "#ed7953"
             ],
             [
              0.7777777777777778,
              "#fb9f3a"
             ],
             [
              0.8888888888888888,
              "#fdca26"
             ],
             [
              1,
              "#f0f921"
             ]
            ],
            "type": "surface"
           }
          ],
          "table": [
           {
            "cells": {
             "fill": {
              "color": "#EBF0F8"
             },
             "line": {
              "color": "white"
             }
            },
            "header": {
             "fill": {
              "color": "#C8D4E3"
             },
             "line": {
              "color": "white"
             }
            },
            "type": "table"
           }
          ]
         },
         "layout": {
          "annotationdefaults": {
           "arrowcolor": "#2a3f5f",
           "arrowhead": 0,
           "arrowwidth": 1
          },
          "autotypenumbers": "strict",
          "coloraxis": {
           "colorbar": {
            "outlinewidth": 0,
            "ticks": ""
           }
          },
          "colorscale": {
           "diverging": [
            [
             0,
             "#8e0152"
            ],
            [
             0.1,
             "#c51b7d"
            ],
            [
             0.2,
             "#de77ae"
            ],
            [
             0.3,
             "#f1b6da"
            ],
            [
             0.4,
             "#fde0ef"
            ],
            [
             0.5,
             "#f7f7f7"
            ],
            [
             0.6,
             "#e6f5d0"
            ],
            [
             0.7,
             "#b8e186"
            ],
            [
             0.8,
             "#7fbc41"
            ],
            [
             0.9,
             "#4d9221"
            ],
            [
             1,
             "#276419"
            ]
           ],
           "sequential": [
            [
             0,
             "#0d0887"
            ],
            [
             0.1111111111111111,
             "#46039f"
            ],
            [
             0.2222222222222222,
             "#7201a8"
            ],
            [
             0.3333333333333333,
             "#9c179e"
            ],
            [
             0.4444444444444444,
             "#bd3786"
            ],
            [
             0.5555555555555556,
             "#d8576b"
            ],
            [
             0.6666666666666666,
             "#ed7953"
            ],
            [
             0.7777777777777778,
             "#fb9f3a"
            ],
            [
             0.8888888888888888,
             "#fdca26"
            ],
            [
             1,
             "#f0f921"
            ]
           ],
           "sequentialminus": [
            [
             0,
             "#0d0887"
            ],
            [
             0.1111111111111111,
             "#46039f"
            ],
            [
             0.2222222222222222,
             "#7201a8"
            ],
            [
             0.3333333333333333,
             "#9c179e"
            ],
            [
             0.4444444444444444,
             "#bd3786"
            ],
            [
             0.5555555555555556,
             "#d8576b"
            ],
            [
             0.6666666666666666,
             "#ed7953"
            ],
            [
             0.7777777777777778,
             "#fb9f3a"
            ],
            [
             0.8888888888888888,
             "#fdca26"
            ],
            [
             1,
             "#f0f921"
            ]
           ]
          },
          "colorway": [
           "#636efa",
           "#EF553B",
           "#00cc96",
           "#ab63fa",
           "#FFA15A",
           "#19d3f3",
           "#FF6692",
           "#B6E880",
           "#FF97FF",
           "#FECB52"
          ],
          "font": {
           "color": "#2a3f5f"
          },
          "geo": {
           "bgcolor": "white",
           "lakecolor": "white",
           "landcolor": "#E5ECF6",
           "showlakes": true,
           "showland": true,
           "subunitcolor": "white"
          },
          "hoverlabel": {
           "align": "left"
          },
          "hovermode": "closest",
          "mapbox": {
           "style": "light"
          },
          "paper_bgcolor": "white",
          "plot_bgcolor": "#E5ECF6",
          "polar": {
           "angularaxis": {
            "gridcolor": "white",
            "linecolor": "white",
            "ticks": ""
           },
           "bgcolor": "#E5ECF6",
           "radialaxis": {
            "gridcolor": "white",
            "linecolor": "white",
            "ticks": ""
           }
          },
          "scene": {
           "xaxis": {
            "backgroundcolor": "#E5ECF6",
            "gridcolor": "white",
            "gridwidth": 2,
            "linecolor": "white",
            "showbackground": true,
            "ticks": "",
            "zerolinecolor": "white"
           },
           "yaxis": {
            "backgroundcolor": "#E5ECF6",
            "gridcolor": "white",
            "gridwidth": 2,
            "linecolor": "white",
            "showbackground": true,
            "ticks": "",
            "zerolinecolor": "white"
           },
           "zaxis": {
            "backgroundcolor": "#E5ECF6",
            "gridcolor": "white",
            "gridwidth": 2,
            "linecolor": "white",
            "showbackground": true,
            "ticks": "",
            "zerolinecolor": "white"
           }
          },
          "shapedefaults": {
           "line": {
            "color": "#2a3f5f"
           }
          },
          "ternary": {
           "aaxis": {
            "gridcolor": "white",
            "linecolor": "white",
            "ticks": ""
           },
           "baxis": {
            "gridcolor": "white",
            "linecolor": "white",
            "ticks": ""
           },
           "bgcolor": "#E5ECF6",
           "caxis": {
            "gridcolor": "white",
            "linecolor": "white",
            "ticks": ""
           }
          },
          "title": {
           "x": 0.05
          },
          "xaxis": {
           "automargin": true,
           "gridcolor": "white",
           "linecolor": "white",
           "ticks": "",
           "title": {
            "standoff": 15
           },
           "zerolinecolor": "white",
           "zerolinewidth": 2
          },
          "yaxis": {
           "automargin": true,
           "gridcolor": "white",
           "linecolor": "white",
           "ticks": "",
           "title": {
            "standoff": 15
           },
           "zerolinecolor": "white",
           "zerolinewidth": 2
          }
         }
        },
        "title": {
         "text": "AdoptionSpeed trends by Age"
        },
        "xaxis": {
         "title": {
          "text": "Age (months)"
         }
        },
        "yaxis": {
         "title": {
          "text": "Counts"
         }
        }
       }
      },
      "text/html": [
       "<div>                            <div id=\"75680fbd-69cd-4a00-a16d-bc1b0b40872a\" class=\"plotly-graph-div\" style=\"height:525px; width:100%;\"></div>            <script type=\"text/javascript\">                require([\"plotly\"], function(Plotly) {                    window.PLOTLYENV=window.PLOTLYENV || {};                                    if (document.getElementById(\"75680fbd-69cd-4a00-a16d-bc1b0b40872a\")) {                    Plotly.newPlot(                        \"75680fbd-69cd-4a00-a16d-bc1b0b40872a\",                        [{\"name\":\"0\",\"type\":\"scatter\",\"x\":[0,1,2,3,4,5,6,7,8,9,10,11,12,13,14,15,17,18,21,22,23,24,30],\"y\":[3,19,44,13,6,2,5,1,1,1,2,2,16,2,3,2,2,3,1,1,1,9,2]},{\"name\":\"1\",\"type\":\"scatter\",\"x\":[0,1,2,3,4,5,6,7,8,9,10,11,12,13,14,15,16,17,18,19,20,21,22,24,25,27,28,30],\"y\":[24,289,400,151,67,34,30,15,10,12,10,4,52,3,6,7,6,5,19,3,4,2,1,71,2,2,2,4]},{\"name\":\"2\",\"type\":\"scatter\",\"x\":[0,1,2,3,4,5,6,7,8,9,10,11,12,13,14,15,16,17,18,19,20,21,22,24,25,27,29,30],\"y\":[25,443,635,270,101,58,32,20,41,30,17,8,97,7,1,9,1,4,17,4,2,1,4,68,1,2,3,6]},{\"name\":\"3\",\"type\":\"scatter\",\"x\":[0,1,2,3,4,5,6,7,8,9,10,11,12,13,14,15,16,17,18,19,20,21,22,24,27,28,29,30],\"y\":[20,341,482,253,123,53,57,32,35,19,17,9,103,4,6,6,3,7,16,1,5,5,3,102,2,1,4,10]},{\"name\":\"4\",\"type\":\"scatter\",\"x\":[0,1,2,3,4,5,6,7,8,9,10,11,12,13,14,15,16,17,18,19,20,21,22,23,24,25,26,27,28,29,30],\"y\":[13,196,423,252,178,93,99,52,70,37,30,18,214,7,14,21,11,17,33,8,7,3,3,1,187,1,7,5,3,6,10]}],                        {\"template\":{\"data\":{\"bar\":[{\"error_x\":{\"color\":\"#2a3f5f\"},\"error_y\":{\"color\":\"#2a3f5f\"},\"marker\":{\"line\":{\"color\":\"#E5ECF6\",\"width\":0.5},\"pattern\":{\"fillmode\":\"overlay\",\"size\":10,\"solidity\":0.2}},\"type\":\"bar\"}],\"barpolar\":[{\"marker\":{\"line\":{\"color\":\"#E5ECF6\",\"width\":0.5},\"pattern\":{\"fillmode\":\"overlay\",\"size\":10,\"solidity\":0.2}},\"type\":\"barpolar\"}],\"carpet\":[{\"aaxis\":{\"endlinecolor\":\"#2a3f5f\",\"gridcolor\":\"white\",\"linecolor\":\"white\",\"minorgridcolor\":\"white\",\"startlinecolor\":\"#2a3f5f\"},\"baxis\":{\"endlinecolor\":\"#2a3f5f\",\"gridcolor\":\"white\",\"linecolor\":\"white\",\"minorgridcolor\":\"white\",\"startlinecolor\":\"#2a3f5f\"},\"type\":\"carpet\"}],\"choropleth\":[{\"colorbar\":{\"outlinewidth\":0,\"ticks\":\"\"},\"type\":\"choropleth\"}],\"contour\":[{\"colorbar\":{\"outlinewidth\":0,\"ticks\":\"\"},\"colorscale\":[[0.0,\"#0d0887\"],[0.1111111111111111,\"#46039f\"],[0.2222222222222222,\"#7201a8\"],[0.3333333333333333,\"#9c179e\"],[0.4444444444444444,\"#bd3786\"],[0.5555555555555556,\"#d8576b\"],[0.6666666666666666,\"#ed7953\"],[0.7777777777777778,\"#fb9f3a\"],[0.8888888888888888,\"#fdca26\"],[1.0,\"#f0f921\"]],\"type\":\"contour\"}],\"contourcarpet\":[{\"colorbar\":{\"outlinewidth\":0,\"ticks\":\"\"},\"type\":\"contourcarpet\"}],\"heatmap\":[{\"colorbar\":{\"outlinewidth\":0,\"ticks\":\"\"},\"colorscale\":[[0.0,\"#0d0887\"],[0.1111111111111111,\"#46039f\"],[0.2222222222222222,\"#7201a8\"],[0.3333333333333333,\"#9c179e\"],[0.4444444444444444,\"#bd3786\"],[0.5555555555555556,\"#d8576b\"],[0.6666666666666666,\"#ed7953\"],[0.7777777777777778,\"#fb9f3a\"],[0.8888888888888888,\"#fdca26\"],[1.0,\"#f0f921\"]],\"type\":\"heatmap\"}],\"heatmapgl\":[{\"colorbar\":{\"outlinewidth\":0,\"ticks\":\"\"},\"colorscale\":[[0.0,\"#0d0887\"],[0.1111111111111111,\"#46039f\"],[0.2222222222222222,\"#7201a8\"],[0.3333333333333333,\"#9c179e\"],[0.4444444444444444,\"#bd3786\"],[0.5555555555555556,\"#d8576b\"],[0.6666666666666666,\"#ed7953\"],[0.7777777777777778,\"#fb9f3a\"],[0.8888888888888888,\"#fdca26\"],[1.0,\"#f0f921\"]],\"type\":\"heatmapgl\"}],\"histogram\":[{\"marker\":{\"pattern\":{\"fillmode\":\"overlay\",\"size\":10,\"solidity\":0.2}},\"type\":\"histogram\"}],\"histogram2d\":[{\"colorbar\":{\"outlinewidth\":0,\"ticks\":\"\"},\"colorscale\":[[0.0,\"#0d0887\"],[0.1111111111111111,\"#46039f\"],[0.2222222222222222,\"#7201a8\"],[0.3333333333333333,\"#9c179e\"],[0.4444444444444444,\"#bd3786\"],[0.5555555555555556,\"#d8576b\"],[0.6666666666666666,\"#ed7953\"],[0.7777777777777778,\"#fb9f3a\"],[0.8888888888888888,\"#fdca26\"],[1.0,\"#f0f921\"]],\"type\":\"histogram2d\"}],\"histogram2dcontour\":[{\"colorbar\":{\"outlinewidth\":0,\"ticks\":\"\"},\"colorscale\":[[0.0,\"#0d0887\"],[0.1111111111111111,\"#46039f\"],[0.2222222222222222,\"#7201a8\"],[0.3333333333333333,\"#9c179e\"],[0.4444444444444444,\"#bd3786\"],[0.5555555555555556,\"#d8576b\"],[0.6666666666666666,\"#ed7953\"],[0.7777777777777778,\"#fb9f3a\"],[0.8888888888888888,\"#fdca26\"],[1.0,\"#f0f921\"]],\"type\":\"histogram2dcontour\"}],\"mesh3d\":[{\"colorbar\":{\"outlinewidth\":0,\"ticks\":\"\"},\"type\":\"mesh3d\"}],\"parcoords\":[{\"line\":{\"colorbar\":{\"outlinewidth\":0,\"ticks\":\"\"}},\"type\":\"parcoords\"}],\"pie\":[{\"automargin\":true,\"type\":\"pie\"}],\"scatter\":[{\"marker\":{\"colorbar\":{\"outlinewidth\":0,\"ticks\":\"\"}},\"type\":\"scatter\"}],\"scatter3d\":[{\"line\":{\"colorbar\":{\"outlinewidth\":0,\"ticks\":\"\"}},\"marker\":{\"colorbar\":{\"outlinewidth\":0,\"ticks\":\"\"}},\"type\":\"scatter3d\"}],\"scattercarpet\":[{\"marker\":{\"colorbar\":{\"outlinewidth\":0,\"ticks\":\"\"}},\"type\":\"scattercarpet\"}],\"scattergeo\":[{\"marker\":{\"colorbar\":{\"outlinewidth\":0,\"ticks\":\"\"}},\"type\":\"scattergeo\"}],\"scattergl\":[{\"marker\":{\"colorbar\":{\"outlinewidth\":0,\"ticks\":\"\"}},\"type\":\"scattergl\"}],\"scattermapbox\":[{\"marker\":{\"colorbar\":{\"outlinewidth\":0,\"ticks\":\"\"}},\"type\":\"scattermapbox\"}],\"scatterpolar\":[{\"marker\":{\"colorbar\":{\"outlinewidth\":0,\"ticks\":\"\"}},\"type\":\"scatterpolar\"}],\"scatterpolargl\":[{\"marker\":{\"colorbar\":{\"outlinewidth\":0,\"ticks\":\"\"}},\"type\":\"scatterpolargl\"}],\"scatterternary\":[{\"marker\":{\"colorbar\":{\"outlinewidth\":0,\"ticks\":\"\"}},\"type\":\"scatterternary\"}],\"surface\":[{\"colorbar\":{\"outlinewidth\":0,\"ticks\":\"\"},\"colorscale\":[[0.0,\"#0d0887\"],[0.1111111111111111,\"#46039f\"],[0.2222222222222222,\"#7201a8\"],[0.3333333333333333,\"#9c179e\"],[0.4444444444444444,\"#bd3786\"],[0.5555555555555556,\"#d8576b\"],[0.6666666666666666,\"#ed7953\"],[0.7777777777777778,\"#fb9f3a\"],[0.8888888888888888,\"#fdca26\"],[1.0,\"#f0f921\"]],\"type\":\"surface\"}],\"table\":[{\"cells\":{\"fill\":{\"color\":\"#EBF0F8\"},\"line\":{\"color\":\"white\"}},\"header\":{\"fill\":{\"color\":\"#C8D4E3\"},\"line\":{\"color\":\"white\"}},\"type\":\"table\"}]},\"layout\":{\"annotationdefaults\":{\"arrowcolor\":\"#2a3f5f\",\"arrowhead\":0,\"arrowwidth\":1},\"autotypenumbers\":\"strict\",\"coloraxis\":{\"colorbar\":{\"outlinewidth\":0,\"ticks\":\"\"}},\"colorscale\":{\"diverging\":[[0,\"#8e0152\"],[0.1,\"#c51b7d\"],[0.2,\"#de77ae\"],[0.3,\"#f1b6da\"],[0.4,\"#fde0ef\"],[0.5,\"#f7f7f7\"],[0.6,\"#e6f5d0\"],[0.7,\"#b8e186\"],[0.8,\"#7fbc41\"],[0.9,\"#4d9221\"],[1,\"#276419\"]],\"sequential\":[[0.0,\"#0d0887\"],[0.1111111111111111,\"#46039f\"],[0.2222222222222222,\"#7201a8\"],[0.3333333333333333,\"#9c179e\"],[0.4444444444444444,\"#bd3786\"],[0.5555555555555556,\"#d8576b\"],[0.6666666666666666,\"#ed7953\"],[0.7777777777777778,\"#fb9f3a\"],[0.8888888888888888,\"#fdca26\"],[1.0,\"#f0f921\"]],\"sequentialminus\":[[0.0,\"#0d0887\"],[0.1111111111111111,\"#46039f\"],[0.2222222222222222,\"#7201a8\"],[0.3333333333333333,\"#9c179e\"],[0.4444444444444444,\"#bd3786\"],[0.5555555555555556,\"#d8576b\"],[0.6666666666666666,\"#ed7953\"],[0.7777777777777778,\"#fb9f3a\"],[0.8888888888888888,\"#fdca26\"],[1.0,\"#f0f921\"]]},\"colorway\":[\"#636efa\",\"#EF553B\",\"#00cc96\",\"#ab63fa\",\"#FFA15A\",\"#19d3f3\",\"#FF6692\",\"#B6E880\",\"#FF97FF\",\"#FECB52\"],\"font\":{\"color\":\"#2a3f5f\"},\"geo\":{\"bgcolor\":\"white\",\"lakecolor\":\"white\",\"landcolor\":\"#E5ECF6\",\"showlakes\":true,\"showland\":true,\"subunitcolor\":\"white\"},\"hoverlabel\":{\"align\":\"left\"},\"hovermode\":\"closest\",\"mapbox\":{\"style\":\"light\"},\"paper_bgcolor\":\"white\",\"plot_bgcolor\":\"#E5ECF6\",\"polar\":{\"angularaxis\":{\"gridcolor\":\"white\",\"linecolor\":\"white\",\"ticks\":\"\"},\"bgcolor\":\"#E5ECF6\",\"radialaxis\":{\"gridcolor\":\"white\",\"linecolor\":\"white\",\"ticks\":\"\"}},\"scene\":{\"xaxis\":{\"backgroundcolor\":\"#E5ECF6\",\"gridcolor\":\"white\",\"gridwidth\":2,\"linecolor\":\"white\",\"showbackground\":true,\"ticks\":\"\",\"zerolinecolor\":\"white\"},\"yaxis\":{\"backgroundcolor\":\"#E5ECF6\",\"gridcolor\":\"white\",\"gridwidth\":2,\"linecolor\":\"white\",\"showbackground\":true,\"ticks\":\"\",\"zerolinecolor\":\"white\"},\"zaxis\":{\"backgroundcolor\":\"#E5ECF6\",\"gridcolor\":\"white\",\"gridwidth\":2,\"linecolor\":\"white\",\"showbackground\":true,\"ticks\":\"\",\"zerolinecolor\":\"white\"}},\"shapedefaults\":{\"line\":{\"color\":\"#2a3f5f\"}},\"ternary\":{\"aaxis\":{\"gridcolor\":\"white\",\"linecolor\":\"white\",\"ticks\":\"\"},\"baxis\":{\"gridcolor\":\"white\",\"linecolor\":\"white\",\"ticks\":\"\"},\"bgcolor\":\"#E5ECF6\",\"caxis\":{\"gridcolor\":\"white\",\"linecolor\":\"white\",\"ticks\":\"\"}},\"title\":{\"x\":0.05},\"xaxis\":{\"automargin\":true,\"gridcolor\":\"white\",\"linecolor\":\"white\",\"ticks\":\"\",\"title\":{\"standoff\":15},\"zerolinecolor\":\"white\",\"zerolinewidth\":2},\"yaxis\":{\"automargin\":true,\"gridcolor\":\"white\",\"linecolor\":\"white\",\"ticks\":\"\",\"title\":{\"standoff\":15},\"zerolinecolor\":\"white\",\"zerolinewidth\":2}}},\"title\":{\"text\":\"AdoptionSpeed trends by Age\"},\"xaxis\":{\"title\":{\"text\":\"Age (months)\"}},\"yaxis\":{\"title\":{\"text\":\"Counts\"}}},                        {\"responsive\": true}                    ).then(function(){\n",
       "                            \n",
       "var gd = document.getElementById('75680fbd-69cd-4a00-a16d-bc1b0b40872a');\n",
       "var x = new MutationObserver(function (mutations, observer) {{\n",
       "        var display = window.getComputedStyle(gd).display;\n",
       "        if (!display || display === 'none') {{\n",
       "            console.log([gd, 'removed!']);\n",
       "            Plotly.purge(gd);\n",
       "            observer.disconnect();\n",
       "        }}\n",
       "}});\n",
       "\n",
       "// Listen for the removal of the full notebook cells\n",
       "var notebookContainer = gd.closest('#notebook-container');\n",
       "if (notebookContainer) {{\n",
       "    x.observe(notebookContainer, {childList: true});\n",
       "}}\n",
       "\n",
       "// Listen for the clearing of the current output cell\n",
       "var outputEl = gd.closest('.output');\n",
       "if (outputEl) {{\n",
       "    x.observe(outputEl, {childList: true});\n",
       "}}\n",
       "\n",
       "                        })                };                });            </script>        </div>"
      ]
     },
     "metadata": {},
     "output_type": "display_data"
    }
   ],
   "source": [
    "import plotly.graph_objs as go\n",
    "\n",
    "tmp = []\n",
    "for i in range(5):\n",
    "    df = data.loc[data['AdoptionSpeed'] == i]\n",
    "\n",
    "    tmp.append(go.Scatter(\n",
    "        x = df['Age'].value_counts().sort_index().index,\n",
    "        y = df['Age'].value_counts().sort_index().values,\n",
    "        name = str(i)\n",
    "    ))\n",
    "    \n",
    "layout = go.Layout(dict(title = \"AdoptionSpeed trends by Age\",\n",
    "                  xaxis = dict(title = 'Age (months)'),\n",
    "                  yaxis = dict(title = 'Counts'),\n",
    "                  )\n",
    "                  )\n",
    "py.iplot(dict(data=tmp, layout=layout), filename='basic-line')"
   ]
  },
  {
   "cell_type": "markdown",
   "metadata": {},
   "source": [
    "From graph, we can conclude that pets with younger age are more likely to be adopted."
   ]
  },
  {
   "cell_type": "markdown",
   "metadata": {},
   "source": [
    "#### Breeds - Breed 1: main breed, Breed 2: secondary breed if not pure"
   ]
  },
  {
   "cell_type": "code",
   "execution_count": 905,
   "metadata": {},
   "outputs": [
    {
     "name": "stdout",
     "output_type": "stream",
     "text": [
      "Mixed Breed            5591\n",
      "Labrador Retriever      165\n",
      "Terrier                 133\n",
      "Poodle                   94\n",
      "Golden Retriever         74\n",
      "Shih Tzu                 71\n",
      "German Shepherd Dog      69\n",
      "Spitz                    63\n",
      "Rottweiler               58\n",
      "Doberman Pinscher        49\n",
      "Name: Breed1Name, dtype: int64 \n",
      "\n",
      "Unknown                4785\n",
      "Mixed Breed            1598\n",
      "Labrador Retriever       76\n",
      "Terrier                  75\n",
      "German Shepherd Dog      51\n",
      "Spitz                    39\n",
      "Rottweiler               38\n",
      "Golden Retriever         34\n",
      "Poodle                   22\n",
      "Doberman Pinscher        22\n",
      "Name: Breed2Name, dtype: int64\n"
     ]
    }
   ],
   "source": [
    "breed_dic = {k: v for k, v in zip(breed['BreedID'], breed['BreedName'])}\n",
    "data['Breed1Name'] = data['Breed1'].apply(lambda x: breed_dic[x] if x in breed_dic else 'Unknown')\n",
    "data['Breed2Name'] = data['Breed2'].apply(lambda x: breed_dic[x] if x in breed_dic else 'Unknown')\n",
    "\n",
    "main_breed_series = data['Breed1Name'].value_counts()\n",
    "second_breed_series = data['Breed2Name'].value_counts()\n",
    "print(main_breed_series.head(10),'\\n')\n",
    "print(second_breed_series.head(10))"
   ]
  },
  {
   "cell_type": "code",
   "execution_count": 906,
   "metadata": {},
   "outputs": [
    {
     "data": {
      "text/plain": [
       "Text(0.5, 1.0, 'Pure breed of pet')"
      ]
     },
     "execution_count": 906,
     "metadata": {},
     "output_type": "execute_result"
    },
    {
     "data": {
      "image/png": "[encoded data removed]",
      "text/plain": [
       "<Figure size 432x288 with 1 Axes>"
      ]
     },
     "metadata": {
      "needs_background": "light"
     },
     "output_type": "display_data"
    }
   ],
   "source": [
    "data['Pure'] = 0\n",
    "data.loc[(data.Breed1Name != 'Mixed Breed')&(data.Breed2==0),'Pure'] = 1\n",
    "\n",
    "import seaborn as sns\n",
    "import matplotlib.pyplot as plt\n",
    "\n",
    "sns.countplot(data.Pure)\n",
    "plt.title(\"Pure breed of pet\")"
   ]
  },
  {
   "cell_type": "code",
   "execution_count": 907,
   "metadata": {},
   "outputs": [
    {
     "name": "stdout",
     "output_type": "stream",
     "text": [
      "Pure                  0         1\n",
      "AdoptionSpeed                    \n",
      "0              0.780142  0.219858\n",
      "1              0.840486  0.159514\n",
      "2              0.932354  0.067646\n",
      "3              0.942408  0.057592\n",
      "4              0.970282  0.029718\n",
      "P-value of chi-square test: 0.9918599924746639\n"
     ]
    }
   ],
   "source": [
    "import pandas as pd\n",
    "from scipy.stats import chi2_contingency\n",
    "\n",
    "pure_crosstab = pd.crosstab(data['AdoptionSpeed'],data['Pure'], normalize = 'index')\n",
    "print(pure_crosstab)\n",
    "chi_val, p_val, dof, expected =  chi2_contingency(pure_crosstab)\n",
    "print(\"P-value of chi-square test:\",p_val)"
   ]
  },
  {
   "cell_type": "markdown",
   "metadata": {},
   "source": [
    "From the cross-table and X2 test, we can conclude that the pure dog have a higher adoption speed. So instead of using its breed, we use the Pure attribute."
   ]
  },
  {
   "cell_type": "code",
   "execution_count": 908,
   "metadata": {},
   "outputs": [
    {
     "data": {
      "text/plain": [
       "(7021, 21)"
      ]
     },
     "execution_count": 908,
     "metadata": {},
     "output_type": "execute_result"
    }
   ],
   "source": [
    "data = data.drop('Breed1',axis = 1)\n",
    "data = data.drop('Breed2',axis = 1)\n",
    "data = data.drop('Breed1Name',axis = 1)\n",
    "data = data.drop('Breed2Name',axis = 1)\n",
    "data.shape"
   ]
  },
  {
   "cell_type": "markdown",
   "metadata": {},
   "source": [
    "#### Gender - male: 1, female:2, mixed: 3"
   ]
  },
  {
   "cell_type": "code",
   "execution_count": 909,
   "metadata": {},
   "outputs": [
    {
     "data": {
      "text/plain": [
       "<matplotlib.axes._subplots.AxesSubplot at 0x7fb77911d050>"
      ]
     },
     "execution_count": 909,
     "metadata": {},
     "output_type": "execute_result"
    },
    {
     "data": {
      "image/png": "[encoded data removed]",
      "text/plain": [
       "<Figure size 864x288 with 2 Axes>"
      ]
     },
     "metadata": {
      "needs_background": "light"
     },
     "output_type": "display_data"
    }
   ],
   "source": [
    "import seaborn as sns\n",
    "import matplotlib.pyplot as plt\n",
    "\n",
    "plt.figure(figsize=(12, 4));\n",
    "plt.subplot(1, 2, 1)\n",
    "sns.countplot(data.Gender)\n",
    "plt.title(\"Gender of pets\")\n",
    "\n",
    "\n",
    "plt.subplot(1, 2, 2)\n",
    "sns.boxplot(y='AdoptionSpeed', x='Gender', \n",
    "                 data=data, \n",
    "                 palette=\"colorblind\",\n",
    "                 hue='Gender')"
   ]
  },
  {
   "cell_type": "code",
   "execution_count": 910,
   "metadata": {},
   "outputs": [
    {
     "data": {
      "text/html": [
       "<div>\n",
       "<style scoped>\n",
       "    .dataframe tbody tr th:only-of-type {\n",
       "        vertical-align: middle;\n",
       "    }\n",
       "\n",
       "    .dataframe tbody tr th {\n",
       "        vertical-align: top;\n",
       "    }\n",
       "\n",
       "    .dataframe thead tr th {\n",
       "        text-align: left;\n",
       "    }\n",
       "\n",
       "    .dataframe thead tr:last-of-type th {\n",
       "        text-align: right;\n",
       "    }\n",
       "</style>\n",
       "<table border=\"1\" class=\"dataframe\">\n",
       "  <thead>\n",
       "    <tr>\n",
       "      <th></th>\n",
       "      <th colspan=\"4\" halign=\"left\">AdoptionSpeed</th>\n",
       "    </tr>\n",
       "    <tr>\n",
       "      <th></th>\n",
       "      <th>count</th>\n",
       "      <th>mean</th>\n",
       "      <th>median</th>\n",
       "      <th>mode</th>\n",
       "    </tr>\n",
       "    <tr>\n",
       "      <th>Gender</th>\n",
       "      <th></th>\n",
       "      <th></th>\n",
       "      <th></th>\n",
       "      <th></th>\n",
       "    </tr>\n",
       "  </thead>\n",
       "  <tbody>\n",
       "    <tr>\n",
       "      <td>1</td>\n",
       "      <td>2448</td>\n",
       "      <td>2.459150</td>\n",
       "      <td>2</td>\n",
       "      <td>2</td>\n",
       "    </tr>\n",
       "    <tr>\n",
       "      <td>2</td>\n",
       "      <td>3731</td>\n",
       "      <td>2.669794</td>\n",
       "      <td>3</td>\n",
       "      <td>4</td>\n",
       "    </tr>\n",
       "    <tr>\n",
       "      <td>3</td>\n",
       "      <td>842</td>\n",
       "      <td>2.732779</td>\n",
       "      <td>3</td>\n",
       "      <td>4</td>\n",
       "    </tr>\n",
       "  </tbody>\n",
       "</table>\n",
       "</div>"
      ],
      "text/plain": [
       "       AdoptionSpeed                      \n",
       "               count      mean median mode\n",
       "Gender                                    \n",
       "1               2448  2.459150      2    2\n",
       "2               3731  2.669794      3    4\n",
       "3                842  2.732779      3    4"
      ]
     },
     "execution_count": 910,
     "metadata": {},
     "output_type": "execute_result"
    }
   ],
   "source": [
    "result = data.groupby('Gender').agg({'AdoptionSpeed': ['count','mean', 'median',pd.Series.mode]})\n",
    "result"
   ]
  },
  {
   "cell_type": "markdown",
   "metadata": {},
   "source": [
    "From the graph, more than half of dogs are femalre, however male pets have a higher adoption_speed compared with female and mixed gender."
   ]
  },
  {
   "cell_type": "markdown",
   "metadata": {},
   "source": [
    "#### Color - Color1, Color2, Color3 of pets"
   ]
  },
  {
   "cell_type": "code",
   "execution_count": 911,
   "metadata": {},
   "outputs": [],
   "source": [
    "color_dic= {k: v for k, v in zip(color['ColorID'], color['ColorName'])}\n",
    "\n",
    "data['Color1_Name'] = data['Color1'].apply(lambda x: color_dic[x] if x in color_dic else 'Unknown')\n",
    "data['Color2_Name'] = data['Color2'].apply(lambda x: color_dic[x] if x in color_dic else 'Unknown')\n",
    "data['Color3_Name'] = data['Color3'].apply(lambda x: color_dic[x] if x in color_dic else 'Unknown')"
   ]
  },
  {
   "cell_type": "code",
   "execution_count": 912,
   "metadata": {},
   "outputs": [
    {
     "data": {
      "text/plain": [
       "<matplotlib.axes._subplots.AxesSubplot at 0x7fb77cad1590>"
      ]
     },
     "execution_count": 912,
     "metadata": {},
     "output_type": "execute_result"
    },
    {
     "data": {
      "image/png": "[encoded data removed]",
      "text/plain": [
       "<Figure size 1008x1008 with 6 Axes>"
      ]
     },
     "metadata": {
      "needs_background": "light"
     },
     "output_type": "display_data"
    }
   ],
   "source": [
    "import seaborn as sns\n",
    "import matplotlib.pyplot as plt\n",
    "\n",
    "\n",
    "plt.figure(figsize=(14, 14));\n",
    "\n",
    "plt.subplot(3, 2, 1)\n",
    "sns.countplot(data.Color1_Name)\n",
    "\n",
    "plt.subplot(3, 2, 2)\n",
    "sns.boxplot(y='AdoptionSpeed', x='Color1_Name', \n",
    "                 data=data, \n",
    "                 palette=\"colorblind\",\n",
    "                 hue='Color1_Name')\n",
    "\n",
    "plt.subplot(3, 2, 3)\n",
    "sns.countplot(data.Color2_Name)\n",
    "\n",
    "plt.subplot(3, 2, 4)\n",
    "sns.boxplot(y='AdoptionSpeed', x='Color2_Name', \n",
    "                 data=data, \n",
    "                 palette=\"colorblind\",\n",
    "                 hue='Color2_Name') \n",
    "\n",
    "\n",
    "plt.subplot(3, 2, 5)\n",
    "sns.countplot(data.Color3_Name)\n",
    "\n",
    "\n",
    "plt.subplot(3, 2, 6)\n",
    "sns.boxplot(y='AdoptionSpeed', x='Color3_Name', \n",
    "                 data=data, \n",
    "                 palette=\"colorblind\",\n",
    "                 hue='Color3_Name') "
   ]
  },
  {
   "cell_type": "markdown",
   "metadata": {},
   "source": [
    "Seems that different color have different impact on adoption speed, try to investigate on how many color does dog have."
   ]
  },
  {
   "cell_type": "code",
   "execution_count": 913,
   "metadata": {},
   "outputs": [
    {
     "data": {
      "text/html": [
       "<div>\n",
       "<style scoped>\n",
       "    .dataframe tbody tr th:only-of-type {\n",
       "        vertical-align: middle;\n",
       "    }\n",
       "\n",
       "    .dataframe tbody tr th {\n",
       "        vertical-align: top;\n",
       "    }\n",
       "\n",
       "    .dataframe thead tr th {\n",
       "        text-align: left;\n",
       "    }\n",
       "\n",
       "    .dataframe thead tr:last-of-type th {\n",
       "        text-align: right;\n",
       "    }\n",
       "</style>\n",
       "<table border=\"1\" class=\"dataframe\">\n",
       "  <thead>\n",
       "    <tr>\n",
       "      <th></th>\n",
       "      <th colspan=\"4\" halign=\"left\">AdoptionSpeed</th>\n",
       "    </tr>\n",
       "    <tr>\n",
       "      <th></th>\n",
       "      <th>count</th>\n",
       "      <th>mean</th>\n",
       "      <th>median</th>\n",
       "      <th>mode</th>\n",
       "    </tr>\n",
       "    <tr>\n",
       "      <th>Color_num</th>\n",
       "      <th></th>\n",
       "      <th></th>\n",
       "      <th></th>\n",
       "      <th></th>\n",
       "    </tr>\n",
       "  </thead>\n",
       "  <tbody>\n",
       "    <tr>\n",
       "      <td>1</td>\n",
       "      <td>2520</td>\n",
       "      <td>2.637698</td>\n",
       "      <td>3</td>\n",
       "      <td>4</td>\n",
       "    </tr>\n",
       "    <tr>\n",
       "      <td>2</td>\n",
       "      <td>2996</td>\n",
       "      <td>2.564753</td>\n",
       "      <td>3</td>\n",
       "      <td>2</td>\n",
       "    </tr>\n",
       "    <tr>\n",
       "      <td>3</td>\n",
       "      <td>1505</td>\n",
       "      <td>2.625249</td>\n",
       "      <td>3</td>\n",
       "      <td>4</td>\n",
       "    </tr>\n",
       "  </tbody>\n",
       "</table>\n",
       "</div>"
      ],
      "text/plain": [
       "          AdoptionSpeed                      \n",
       "                  count      mean median mode\n",
       "Color_num                                    \n",
       "1                  2520  2.637698      3    4\n",
       "2                  2996  2.564753      3    2\n",
       "3                  1505  2.625249      3    4"
      ]
     },
     "execution_count": 913,
     "metadata": {},
     "output_type": "execute_result"
    }
   ],
   "source": [
    "data['Color_num'] = 3\n",
    "data.loc[data.Color3_Name == 'Unknown','Color_num'] = 2\n",
    "data.loc[data.Color2_Name == 'Unknown','Color_num'] = 1\n",
    "\n",
    "result = data.groupby('Color_num').agg({'AdoptionSpeed': ['count','mean', 'median',pd.Series.mode]})\n",
    "result"
   ]
  },
  {
   "cell_type": "markdown",
   "metadata": {},
   "source": [
    "Seems that dog with 2-color have a slightly higher adoption speed, maybe investigate on first color."
   ]
  },
  {
   "cell_type": "code",
   "execution_count": 914,
   "metadata": {},
   "outputs": [
    {
     "name": "stdout",
     "output_type": "stream",
     "text": [
      "            AdoptionSpeed                      \n",
      "                    count      mean median mode\n",
      "Color1_Name                                    \n",
      "Black                3542  2.581875      3    2\n",
      "Brown                2311  2.668109      3    4\n",
      "Cream                 466  2.452790      2    4\n",
      "Golden                230  2.556522      3    4\n",
      "Gray                   56  2.375000      2    2\n",
      "White                 288  2.517361      3    4\n",
      "Yellow                128  2.984375      3    4\n",
      "            AdoptionSpeed                      \n",
      "                    count      mean median mode\n",
      "Color2_Name                                    \n",
      "Brown                2144  2.569030      3    2\n",
      "Cream                 518  2.592664      3    2\n",
      "Golden                233  2.682403      3    4\n",
      "Gray                   83  2.578313      3    4\n",
      "Unknown              2520  2.637698      3    4\n",
      "White                1339  2.575056      3    4\n",
      "Yellow                184  2.701087      3    4\n",
      "            AdoptionSpeed                         \n",
      "                    count      mean median    mode\n",
      "Color3_Name                                       \n",
      "Cream                 244  2.627049      3       4\n",
      "Golden                 79  2.632911      3       4\n",
      "Gray                   40  2.725000      3  [2, 4]\n",
      "Unknown              5516  2.598078      3       4\n",
      "White                1075  2.590698      3       4\n",
      "Yellow                 67  3.104478      3       4\n"
     ]
    }
   ],
   "source": [
    "result1 = data.groupby('Color1_Name').agg({'AdoptionSpeed': ['count','mean', 'median',pd.Series.mode]})\n",
    "result2 = data.groupby('Color2_Name').agg({'AdoptionSpeed': ['count','mean', 'median',pd.Series.mode]})\n",
    "result3 = data.groupby('Color3_Name').agg({'AdoptionSpeed': ['count','mean', 'median',pd.Series.mode]})\n",
    "\n",
    "print(result1)\n",
    "print(result2)\n",
    "print(result3)"
   ]
  },
  {
   "cell_type": "code",
   "execution_count": 915,
   "metadata": {},
   "outputs": [
    {
     "data": {
      "text/html": [
       "<div>\n",
       "<style scoped>\n",
       "    .dataframe tbody tr th:only-of-type {\n",
       "        vertical-align: middle;\n",
       "    }\n",
       "\n",
       "    .dataframe tbody tr th {\n",
       "        vertical-align: top;\n",
       "    }\n",
       "\n",
       "    .dataframe thead tr th {\n",
       "        text-align: left;\n",
       "    }\n",
       "\n",
       "    .dataframe thead tr:last-of-type th {\n",
       "        text-align: right;\n",
       "    }\n",
       "</style>\n",
       "<table border=\"1\" class=\"dataframe\">\n",
       "  <thead>\n",
       "    <tr>\n",
       "      <th></th>\n",
       "      <th colspan=\"3\" halign=\"left\">AdoptionSpeed</th>\n",
       "    </tr>\n",
       "    <tr>\n",
       "      <th></th>\n",
       "      <th>count</th>\n",
       "      <th>mean</th>\n",
       "      <th>median</th>\n",
       "    </tr>\n",
       "    <tr>\n",
       "      <th>All_color</th>\n",
       "      <th></th>\n",
       "      <th></th>\n",
       "      <th></th>\n",
       "    </tr>\n",
       "  </thead>\n",
       "  <tbody>\n",
       "    <tr>\n",
       "      <td>BlackBrownCream</td>\n",
       "      <td>183</td>\n",
       "      <td>2.579235</td>\n",
       "      <td>3.0</td>\n",
       "    </tr>\n",
       "    <tr>\n",
       "      <td>BlackBrownGolden</td>\n",
       "      <td>79</td>\n",
       "      <td>2.632911</td>\n",
       "      <td>3.0</td>\n",
       "    </tr>\n",
       "    <tr>\n",
       "      <td>BlackBrownGray</td>\n",
       "      <td>25</td>\n",
       "      <td>2.600000</td>\n",
       "      <td>2.0</td>\n",
       "    </tr>\n",
       "    <tr>\n",
       "      <td>BlackBrownUnknown</td>\n",
       "      <td>1127</td>\n",
       "      <td>2.550133</td>\n",
       "      <td>3.0</td>\n",
       "    </tr>\n",
       "    <tr>\n",
       "      <td>BlackBrownWhite</td>\n",
       "      <td>677</td>\n",
       "      <td>2.548006</td>\n",
       "      <td>3.0</td>\n",
       "    </tr>\n",
       "  </tbody>\n",
       "</table>\n",
       "</div>"
      ],
      "text/plain": [
       "                  AdoptionSpeed                 \n",
       "                          count      mean median\n",
       "All_color                                       \n",
       "BlackBrownCream             183  2.579235    3.0\n",
       "BlackBrownGolden             79  2.632911    3.0\n",
       "BlackBrownGray               25  2.600000    2.0\n",
       "BlackBrownUnknown          1127  2.550133    3.0\n",
       "BlackBrownWhite             677  2.548006    3.0"
      ]
     },
     "execution_count": 915,
     "metadata": {},
     "output_type": "execute_result"
    }
   ],
   "source": [
    "data['All_color'] = (data['Color1_Name'] + '__' + data['Color2_Name'] + '__' + data['Color3_Name']).str.replace('__', '')\n",
    "result = data.groupby('All_color').agg({'AdoptionSpeed': ['count','mean', 'median']})\n",
    "result.head()"
   ]
  },
  {
   "cell_type": "code",
   "execution_count": 916,
   "metadata": {},
   "outputs": [
    {
     "data": {
      "text/plain": [
       "(7021, 23)"
      ]
     },
     "execution_count": 916,
     "metadata": {},
     "output_type": "execute_result"
    }
   ],
   "source": [
    "data = data.drop('Color1',axis = 1)\n",
    "data = data.drop('Color2',axis = 1)\n",
    "data = data.drop('Color3',axis = 1)\n",
    "data.shape"
   ]
  },
  {
   "cell_type": "markdown",
   "metadata": {},
   "source": [
    "#### Quantity -- number of pets represented in the file"
   ]
  },
  {
   "cell_type": "code",
   "execution_count": 917,
   "metadata": {},
   "outputs": [
    {
     "data": {
      "image/png": "[encoded data removed]",
      "text/plain": [
       "<Figure size 432x288 with 1 Axes>"
      ]
     },
     "metadata": {
      "needs_background": "light"
     },
     "output_type": "display_data"
    }
   ],
   "source": [
    "plt.hist(data['Quantity'], density=True, bins=10)  # density=False would make counts\n",
    "plt.ylabel('Probability')\n",
    "plt.xlabel('Quantity');"
   ]
  },
  {
   "cell_type": "code",
   "execution_count": 918,
   "metadata": {},
   "outputs": [
    {
     "data": {
      "text/html": [
       "<div>\n",
       "<style scoped>\n",
       "    .dataframe tbody tr th:only-of-type {\n",
       "        vertical-align: middle;\n",
       "    }\n",
       "\n",
       "    .dataframe tbody tr th {\n",
       "        vertical-align: top;\n",
       "    }\n",
       "\n",
       "    .dataframe thead tr th {\n",
       "        text-align: left;\n",
       "    }\n",
       "\n",
       "    .dataframe thead tr:last-of-type th {\n",
       "        text-align: right;\n",
       "    }\n",
       "</style>\n",
       "<table border=\"1\" class=\"dataframe\">\n",
       "  <thead>\n",
       "    <tr>\n",
       "      <th></th>\n",
       "      <th colspan=\"3\" halign=\"left\">AdoptionSpeed</th>\n",
       "    </tr>\n",
       "    <tr>\n",
       "      <th></th>\n",
       "      <th>count</th>\n",
       "      <th>mean</th>\n",
       "      <th>median</th>\n",
       "    </tr>\n",
       "    <tr>\n",
       "      <th>Quantity</th>\n",
       "      <th></th>\n",
       "      <th></th>\n",
       "      <th></th>\n",
       "    </tr>\n",
       "  </thead>\n",
       "  <tbody>\n",
       "    <tr>\n",
       "      <td>1</td>\n",
       "      <td>5593</td>\n",
       "      <td>2.566422</td>\n",
       "      <td>3</td>\n",
       "    </tr>\n",
       "    <tr>\n",
       "      <td>2</td>\n",
       "      <td>544</td>\n",
       "      <td>2.648897</td>\n",
       "      <td>3</td>\n",
       "    </tr>\n",
       "    <tr>\n",
       "      <td>3</td>\n",
       "      <td>253</td>\n",
       "      <td>2.719368</td>\n",
       "      <td>3</td>\n",
       "    </tr>\n",
       "    <tr>\n",
       "      <td>4</td>\n",
       "      <td>205</td>\n",
       "      <td>2.834146</td>\n",
       "      <td>3</td>\n",
       "    </tr>\n",
       "    <tr>\n",
       "      <td>5</td>\n",
       "      <td>145</td>\n",
       "      <td>2.937931</td>\n",
       "      <td>3</td>\n",
       "    </tr>\n",
       "    <tr>\n",
       "      <td>6</td>\n",
       "      <td>117</td>\n",
       "      <td>2.820513</td>\n",
       "      <td>3</td>\n",
       "    </tr>\n",
       "    <tr>\n",
       "      <td>7</td>\n",
       "      <td>57</td>\n",
       "      <td>2.877193</td>\n",
       "      <td>3</td>\n",
       "    </tr>\n",
       "    <tr>\n",
       "      <td>8</td>\n",
       "      <td>45</td>\n",
       "      <td>2.622222</td>\n",
       "      <td>3</td>\n",
       "    </tr>\n",
       "    <tr>\n",
       "      <td>9</td>\n",
       "      <td>29</td>\n",
       "      <td>2.689655</td>\n",
       "      <td>3</td>\n",
       "    </tr>\n",
       "    <tr>\n",
       "      <td>10</td>\n",
       "      <td>6</td>\n",
       "      <td>3.000000</td>\n",
       "      <td>3</td>\n",
       "    </tr>\n",
       "    <tr>\n",
       "      <td>11</td>\n",
       "      <td>7</td>\n",
       "      <td>3.000000</td>\n",
       "      <td>3</td>\n",
       "    </tr>\n",
       "    <tr>\n",
       "      <td>12</td>\n",
       "      <td>4</td>\n",
       "      <td>3.000000</td>\n",
       "      <td>3</td>\n",
       "    </tr>\n",
       "    <tr>\n",
       "      <td>13</td>\n",
       "      <td>1</td>\n",
       "      <td>2.000000</td>\n",
       "      <td>2</td>\n",
       "    </tr>\n",
       "    <tr>\n",
       "      <td>14</td>\n",
       "      <td>1</td>\n",
       "      <td>4.000000</td>\n",
       "      <td>4</td>\n",
       "    </tr>\n",
       "    <tr>\n",
       "      <td>15</td>\n",
       "      <td>1</td>\n",
       "      <td>4.000000</td>\n",
       "      <td>4</td>\n",
       "    </tr>\n",
       "    <tr>\n",
       "      <td>16</td>\n",
       "      <td>2</td>\n",
       "      <td>3.000000</td>\n",
       "      <td>3</td>\n",
       "    </tr>\n",
       "    <tr>\n",
       "      <td>17</td>\n",
       "      <td>3</td>\n",
       "      <td>2.333333</td>\n",
       "      <td>2</td>\n",
       "    </tr>\n",
       "    <tr>\n",
       "      <td>20</td>\n",
       "      <td>8</td>\n",
       "      <td>3.500000</td>\n",
       "      <td>4</td>\n",
       "    </tr>\n",
       "  </tbody>\n",
       "</table>\n",
       "</div>"
      ],
      "text/plain": [
       "         AdoptionSpeed                 \n",
       "                 count      mean median\n",
       "Quantity                               \n",
       "1                 5593  2.566422      3\n",
       "2                  544  2.648897      3\n",
       "3                  253  2.719368      3\n",
       "4                  205  2.834146      3\n",
       "5                  145  2.937931      3\n",
       "6                  117  2.820513      3\n",
       "7                   57  2.877193      3\n",
       "8                   45  2.622222      3\n",
       "9                   29  2.689655      3\n",
       "10                   6  3.000000      3\n",
       "11                   7  3.000000      3\n",
       "12                   4  3.000000      3\n",
       "13                   1  2.000000      2\n",
       "14                   1  4.000000      4\n",
       "15                   1  4.000000      4\n",
       "16                   2  3.000000      3\n",
       "17                   3  2.333333      2\n",
       "20                   8  3.500000      4"
      ]
     },
     "execution_count": 918,
     "metadata": {},
     "output_type": "execute_result"
    }
   ],
   "source": [
    "result = data.groupby('Quantity').agg({'AdoptionSpeed': ['count','mean', 'median']})\n",
    "result"
   ]
  },
  {
   "cell_type": "markdown",
   "metadata": {},
   "source": [
    "Most of the pets'quantity is less than or equal to 10, we only consider the <=10 cases."
   ]
  },
  {
   "cell_type": "code",
   "execution_count": 919,
   "metadata": {},
   "outputs": [
    {
     "name": "stdout",
     "output_type": "stream",
     "text": [
      "27 rows have been removed.\n",
      "(6994, 23)\n"
     ]
    }
   ],
   "source": [
    "print(len(data[data.Quantity > 10]),\"rows have been removed.\")\n",
    "data.drop(data[data.Quantity > 10].index, inplace=True)\n",
    "print(data.shape)"
   ]
  },
  {
   "cell_type": "markdown",
   "metadata": {},
   "source": [
    "\n",
    "\n",
    "#### Apperance of Pets  - MaturitySize (1=Small, 2 = Medium, 3 =  Large, 4= Extra Large, 5 = Not specified), FurLength(1=Short, 2 = Medium, 3=Long, 0=Not Specified)"
   ]
  },
  {
   "cell_type": "code",
   "execution_count": 920,
   "metadata": {},
   "outputs": [
    {
     "data": {
      "text/plain": [
       "<matplotlib.axes._subplots.AxesSubplot at 0x7fb77d8176d0>"
      ]
     },
     "execution_count": 920,
     "metadata": {},
     "output_type": "execute_result"
    },
    {
     "data": {
      "image/png": "[encoded data removed]",
      "text/plain": [
       "<Figure size 864x720 with 4 Axes>"
      ]
     },
     "metadata": {
      "needs_background": "light"
     },
     "output_type": "display_data"
    }
   ],
   "source": [
    "import seaborn as sns\n",
    "import matplotlib.pyplot as plt\n",
    "\n",
    "plt.figure(figsize=(12, 10));\n",
    "plt.subplot(2, 2, 1)\n",
    "sns.countplot(data.MaturitySize)\n",
    "plt.title(\"MaturitySize of pets\")\n",
    "\n",
    "\n",
    "plt.subplot(2, 2, 2)\n",
    "sns.boxplot(y='AdoptionSpeed', x='MaturitySize', \n",
    "                 data=data, \n",
    "                 palette=\"colorblind\",\n",
    "                 hue='MaturitySize') \n",
    "\n",
    "plt.subplot(2, 2, 3)\n",
    "sns.countplot(data.FurLength)\n",
    "plt.title(\"FurLength of pets\")\n",
    "\n",
    "\n",
    "plt.subplot(2, 2, 4)\n",
    "sns.boxplot(y='AdoptionSpeed', x='FurLength', \n",
    "                 data=data, \n",
    "                 palette=\"colorblind\",\n",
    "                 hue='FurLength') "
   ]
  },
  {
   "cell_type": "markdown",
   "metadata": {},
   "source": [
    "- No pets haven't specified in two attributes. \n",
    "- Most of the pets are medium MaturitySize and short length, for some reason, unspecified dogs in these two attributes are prefered. "
   ]
  },
  {
   "cell_type": "markdown",
   "metadata": {},
   "source": [
    "#### Health  - Health Condition (1=Healthy, 2 = Minor Injury, 3 = Serious Injury, 0 = Not specified)"
   ]
  },
  {
   "cell_type": "code",
   "execution_count": 921,
   "metadata": {},
   "outputs": [
    {
     "data": {
      "text/plain": [
       "<matplotlib.axes._subplots.AxesSubplot at 0x7fb77cfb6550>"
      ]
     },
     "execution_count": 921,
     "metadata": {},
     "output_type": "execute_result"
    },
    {
     "data": {
      "image/png": "[encoded data removed]",
      "text/plain": [
       "<Figure size 864x288 with 2 Axes>"
      ]
     },
     "metadata": {
      "needs_background": "light"
     },
     "output_type": "display_data"
    }
   ],
   "source": [
    "import seaborn as sns\n",
    "import matplotlib.pyplot as plt\n",
    "\n",
    "plt.figure(figsize=(12, 4));\n",
    "plt.subplot(1, 2, 1)\n",
    "sns.countplot(data.Health)\n",
    "plt.title(\"Health Condition of pets\")\n",
    "\n",
    "\n",
    "plt.subplot(1, 2, 2)\n",
    "sns.boxplot(y='AdoptionSpeed', x='Health', \n",
    "                 data=data, \n",
    "                 palette=\"colorblind\",\n",
    "                 hue='Health') "
   ]
  },
  {
   "cell_type": "markdown",
   "metadata": {},
   "source": [
    "Every pets have health condition attribute, no 0 value.\n",
    "Most pets are healthy, from the box plot, health condition have a small influence on adoption speed. "
   ]
  },
  {
   "cell_type": "markdown",
   "metadata": {},
   "source": [
    "#### Health Related - Vaccinated (1=Yes, 2=No, 3=Not sure), Dewormed(1=Yes, 2=No, 3=Not sure),Sterilized(1=Yes, 2=No, 3=Not sure)"
   ]
  },
  {
   "cell_type": "code",
   "execution_count": 922,
   "metadata": {},
   "outputs": [
    {
     "data": {
      "text/plain": [
       "<matplotlib.axes._subplots.AxesSubplot at 0x7fb77ddd03d0>"
      ]
     },
     "execution_count": 922,
     "metadata": {},
     "output_type": "execute_result"
    },
    {
     "data": {
      "image/png": "[encoded data removed]",
      "text/plain": [
       "<Figure size 1152x504 with 6 Axes>"
      ]
     },
     "metadata": {
      "needs_background": "light"
     },
     "output_type": "display_data"
    }
   ],
   "source": [
    "import seaborn as sns\n",
    "import matplotlib.pyplot as plt\n",
    "\n",
    "\n",
    "plt.figure(figsize=(16, 7));\n",
    "\n",
    "plt.subplot(2, 3, 1)\n",
    "sns.countplot(data.Vaccinated)\n",
    "plt.title(\"Vaccinated of pets\")\n",
    "\n",
    "plt.subplot(2, 3, 2)\n",
    "sns.countplot(data.Dewormed)\n",
    "plt.title(\"Dewormed of pets\")\n",
    "\n",
    "plt.subplot(2, 3, 3)\n",
    "sns.countplot(data.Sterilized)\n",
    "plt.title(\"Sterilized of pets\")\n",
    "\n",
    "plt.subplot(2, 3, 4)\n",
    "sns.boxplot(y='AdoptionSpeed', x='Vaccinated', \n",
    "                 data=data, \n",
    "                 palette=\"colorblind\",\n",
    "                 hue='Vaccinated')\n",
    "\n",
    "plt.subplot(2, 3, 5)\n",
    "sns.boxplot(y='AdoptionSpeed', x='Dewormed', \n",
    "                 data=data, \n",
    "                 palette=\"colorblind\",\n",
    "                 hue='Dewormed') \n",
    "\n",
    "plt.subplot(2, 3, 6)\n",
    "sns.boxplot(y='AdoptionSpeed', x='Sterilized', \n",
    "                 data=data, \n",
    "                 palette=\"colorblind\",\n",
    "                 hue='Sterilized') "
   ]
  },
  {
   "cell_type": "markdown",
   "metadata": {},
   "source": [
    "- About 50% of dog have vaccinated, and vaccinated pets have higher adoption speed.\n",
    "- Most pets are dewormed, the pets dewored/unkown have higher adoption speed.\n",
    "- Most pets haven't been sterilized, and unsterilized pets have higher adoption speed."
   ]
  },
  {
   "cell_type": "markdown",
   "metadata": {},
   "source": [
    "#### Fee - Adoption fee (0=free)"
   ]
  },
  {
   "cell_type": "code",
   "execution_count": 923,
   "metadata": {},
   "outputs": [
    {
     "name": "stdout",
     "output_type": "stream",
     "text": [
      "0      6046\n",
      "50      152\n",
      "100     127\n",
      "200     108\n",
      "20       97\n",
      "Name: Fee, dtype: int64\n"
     ]
    },
    {
     "data": {
      "text/plain": [
       "Text(0.5, 1.0, 'Histogram of adoption fee')"
      ]
     },
     "execution_count": 923,
     "metadata": {},
     "output_type": "execute_result"
    },
    {
     "data": {
      "image/png": "[encoded data removed]",
      "text/plain": [
       "<Figure size 432x288 with 1 Axes>"
      ]
     },
     "metadata": {
      "needs_background": "light"
     },
     "output_type": "display_data"
    }
   ],
   "source": [
    "fee_series = data['Fee'].value_counts()\n",
    "print(fee_series.head())\n",
    "\n",
    "plt.hist(data['Fee'], density=True, bins=30)\n",
    "plt.title(\"Histogram of adoption fee\")"
   ]
  },
  {
   "cell_type": "code",
   "execution_count": 924,
   "metadata": {},
   "outputs": [
    {
     "data": {
      "text/plain": [
       "<matplotlib.axes._subplots.AxesSubplot at 0x7fb77e17cf90>"
      ]
     },
     "execution_count": 924,
     "metadata": {},
     "output_type": "execute_result"
    },
    {
     "data": {
      "image/png": "[encoded data removed]",
      "text/plain": [
       "<Figure size 864x288 with 2 Axes>"
      ]
     },
     "metadata": {
      "needs_background": "light"
     },
     "output_type": "display_data"
    }
   ],
   "source": [
    "data['Free'] = 0\n",
    "data.loc[data.Fee==0 ,'Free'] = 1\n",
    "\n",
    "import seaborn as sns\n",
    "import matplotlib.pyplot as plt\n",
    "\n",
    "plt.figure(figsize=(12, 4));\n",
    "plt.subplot(1, 2, 1)\n",
    "sns.countplot(data.Free)\n",
    "plt.title(\"Free adoption of pets\")\n",
    "\n",
    "\n",
    "plt.subplot(1, 2, 2)\n",
    "sns.boxplot(y='AdoptionSpeed', x='Free', \n",
    "                 data=data, \n",
    "                 palette=\"colorblind\",\n",
    "                 hue='Free') "
   ]
  },
  {
   "cell_type": "markdown",
   "metadata": {},
   "source": [
    "Most pets are free adoption, patterns look same in two group.. Drop fee or not?"
   ]
  },
  {
   "cell_type": "markdown",
   "metadata": {},
   "source": [
    "#### State - State Location in Malaysia"
   ]
  },
  {
   "cell_type": "code",
   "execution_count": 925,
   "metadata": {},
   "outputs": [
    {
     "name": "stdout",
     "output_type": "stream",
     "text": [
      "There are 0 null values in State column.\n"
     ]
    },
    {
     "data": {
      "text/plain": [
       "Selangor           4226\n",
       "Kuala Lumpur       1400\n",
       "Pulau Pinang        550\n",
       "Perak               292\n",
       "Johor               239\n",
       "Negeri Sembilan     123\n",
       "Melaka               74\n",
       "Kedah                48\n",
       "Pahang               29\n",
       "Sabah                 4\n",
       "Kelantan              3\n",
       "Terengganu            2\n",
       "Sarawak               2\n",
       "Labuan                2\n",
       "Name: StateName, dtype: int64"
      ]
     },
     "execution_count": 925,
     "metadata": {},
     "output_type": "execute_result"
    }
   ],
   "source": [
    "print(\"There are\",data.State.isnull().sum(),\"null values in State column.\")\n",
    "\n",
    "state_dic = {k: v for k, v in zip(state['StateID'], state['StateName'])}\n",
    "data['StateName'] = data['State'].apply(lambda x: state_dic[x] if x in state_dic else 'Unknown')\n",
    "rescureID_series = data['StateName'].value_counts()\n",
    "rescureID_series"
   ]
  },
  {
   "cell_type": "code",
   "execution_count": 926,
   "metadata": {},
   "outputs": [
    {
     "data": {
      "text/html": [
       "<div>\n",
       "<style scoped>\n",
       "    .dataframe tbody tr th:only-of-type {\n",
       "        vertical-align: middle;\n",
       "    }\n",
       "\n",
       "    .dataframe tbody tr th {\n",
       "        vertical-align: top;\n",
       "    }\n",
       "\n",
       "    .dataframe thead tr th {\n",
       "        text-align: left;\n",
       "    }\n",
       "\n",
       "    .dataframe thead tr:last-of-type th {\n",
       "        text-align: right;\n",
       "    }\n",
       "</style>\n",
       "<table border=\"1\" class=\"dataframe\">\n",
       "  <thead>\n",
       "    <tr>\n",
       "      <th></th>\n",
       "      <th colspan=\"3\" halign=\"left\">AdoptionSpeed</th>\n",
       "    </tr>\n",
       "    <tr>\n",
       "      <th></th>\n",
       "      <th>count</th>\n",
       "      <th>mean</th>\n",
       "      <th>median</th>\n",
       "    </tr>\n",
       "    <tr>\n",
       "      <th>StateName</th>\n",
       "      <th></th>\n",
       "      <th></th>\n",
       "      <th></th>\n",
       "    </tr>\n",
       "  </thead>\n",
       "  <tbody>\n",
       "    <tr>\n",
       "      <td>Johor</td>\n",
       "      <td>239</td>\n",
       "      <td>2.397490</td>\n",
       "      <td>2.0</td>\n",
       "    </tr>\n",
       "    <tr>\n",
       "      <td>Kedah</td>\n",
       "      <td>48</td>\n",
       "      <td>2.666667</td>\n",
       "      <td>3.0</td>\n",
       "    </tr>\n",
       "    <tr>\n",
       "      <td>Kelantan</td>\n",
       "      <td>3</td>\n",
       "      <td>2.666667</td>\n",
       "      <td>4.0</td>\n",
       "    </tr>\n",
       "    <tr>\n",
       "      <td>Kuala Lumpur</td>\n",
       "      <td>1400</td>\n",
       "      <td>2.622857</td>\n",
       "      <td>3.0</td>\n",
       "    </tr>\n",
       "    <tr>\n",
       "      <td>Labuan</td>\n",
       "      <td>2</td>\n",
       "      <td>2.500000</td>\n",
       "      <td>2.5</td>\n",
       "    </tr>\n",
       "    <tr>\n",
       "      <td>Melaka</td>\n",
       "      <td>74</td>\n",
       "      <td>3.229730</td>\n",
       "      <td>4.0</td>\n",
       "    </tr>\n",
       "    <tr>\n",
       "      <td>Negeri Sembilan</td>\n",
       "      <td>123</td>\n",
       "      <td>3.170732</td>\n",
       "      <td>4.0</td>\n",
       "    </tr>\n",
       "    <tr>\n",
       "      <td>Pahang</td>\n",
       "      <td>29</td>\n",
       "      <td>2.413793</td>\n",
       "      <td>2.0</td>\n",
       "    </tr>\n",
       "    <tr>\n",
       "      <td>Perak</td>\n",
       "      <td>292</td>\n",
       "      <td>2.732877</td>\n",
       "      <td>3.0</td>\n",
       "    </tr>\n",
       "    <tr>\n",
       "      <td>Pulau Pinang</td>\n",
       "      <td>550</td>\n",
       "      <td>2.796364</td>\n",
       "      <td>3.0</td>\n",
       "    </tr>\n",
       "    <tr>\n",
       "      <td>Sabah</td>\n",
       "      <td>4</td>\n",
       "      <td>1.750000</td>\n",
       "      <td>2.0</td>\n",
       "    </tr>\n",
       "    <tr>\n",
       "      <td>Sarawak</td>\n",
       "      <td>2</td>\n",
       "      <td>2.500000</td>\n",
       "      <td>2.5</td>\n",
       "    </tr>\n",
       "    <tr>\n",
       "      <td>Selangor</td>\n",
       "      <td>4226</td>\n",
       "      <td>2.546143</td>\n",
       "      <td>3.0</td>\n",
       "    </tr>\n",
       "    <tr>\n",
       "      <td>Terengganu</td>\n",
       "      <td>2</td>\n",
       "      <td>2.500000</td>\n",
       "      <td>2.5</td>\n",
       "    </tr>\n",
       "  </tbody>\n",
       "</table>\n",
       "</div>"
      ],
      "text/plain": [
       "                AdoptionSpeed                 \n",
       "                        count      mean median\n",
       "StateName                                     \n",
       "Johor                     239  2.397490    2.0\n",
       "Kedah                      48  2.666667    3.0\n",
       "Kelantan                    3  2.666667    4.0\n",
       "Kuala Lumpur             1400  2.622857    3.0\n",
       "Labuan                      2  2.500000    2.5\n",
       "Melaka                     74  3.229730    4.0\n",
       "Negeri Sembilan           123  3.170732    4.0\n",
       "Pahang                     29  2.413793    2.0\n",
       "Perak                     292  2.732877    3.0\n",
       "Pulau Pinang              550  2.796364    3.0\n",
       "Sabah                       4  1.750000    2.0\n",
       "Sarawak                     2  2.500000    2.5\n",
       "Selangor                 4226  2.546143    3.0\n",
       "Terengganu                  2  2.500000    2.5"
      ]
     },
     "execution_count": 926,
     "metadata": {},
     "output_type": "execute_result"
    }
   ],
   "source": [
    "result = data.groupby('StateName').agg({'AdoptionSpeed': ['count','mean', 'median']})\n",
    "result\n",
    "\n",
    "#Give marks?"
   ]
  },
  {
   "cell_type": "markdown",
   "metadata": {},
   "source": [
    "From the table, the adoption situation in different state is quite different. In many stats, most pets haven't been adopted."
   ]
  },
  {
   "cell_type": "code",
   "execution_count": 927,
   "metadata": {},
   "outputs": [],
   "source": [
    "data = data.drop('State',axis = 1)"
   ]
  },
  {
   "cell_type": "markdown",
   "metadata": {},
   "source": [
    "#### RescuerID - Unique hash ID of rescuer"
   ]
  },
  {
   "cell_type": "code",
   "execution_count": 928,
   "metadata": {},
   "outputs": [
    {
     "data": {
      "text/plain": [
       "fa90fa5b1ee11c86938398b60abc32cb    444\n",
       "aa66486163b6cbc25ea62a34b11c9b91    235\n",
       "b53c34474d9e24574bcec6a3d3306a0d    221\n",
       "c00756f2bdd8fa88fc9f07a8309f7d5d    152\n",
       "ee2747ce26468ec44c7194e7d1d9dad9    134\n",
       "Name: RescuerID, dtype: int64"
      ]
     },
     "execution_count": 928,
     "metadata": {},
     "output_type": "execute_result"
    }
   ],
   "source": [
    "rescureID_series = data['RescuerID'].value_counts()\n",
    "rescureID_series.head()"
   ]
  },
  {
   "cell_type": "code",
   "execution_count": 929,
   "metadata": {},
   "outputs": [
    {
     "data": {
      "text/plain": [
       "(6994, 23)"
      ]
     },
     "execution_count": 929,
     "metadata": {},
     "output_type": "execute_result"
    }
   ],
   "source": [
    "#Difficult to analyze this column, drop\n",
    "data = data.drop('RescuerID',axis = 1)\n",
    "data.shape"
   ]
  },
  {
   "cell_type": "markdown",
   "metadata": {},
   "source": [
    "#### VideoAmt, PhotoAmt - Video & Photo of pets"
   ]
  },
  {
   "cell_type": "code",
   "execution_count": 930,
   "metadata": {},
   "outputs": [
    {
     "name": "stdout",
     "output_type": "stream",
     "text": [
      "0    6709\n",
      "1     206\n",
      "2      40\n",
      "3      22\n",
      "4      10\n",
      "Name: VideoAmt, dtype: int64 \n",
      "\n",
      "1.0    1582\n",
      "2.0    1216\n",
      "3.0    1098\n",
      "5.0     928\n",
      "4.0     821\n",
      "6.0     292\n",
      "7.0     201\n",
      "8.0     165\n",
      "0.0     147\n",
      "9.0     104\n",
      "Name: PhotoAmt, dtype: int64\n"
     ]
    }
   ],
   "source": [
    "video_series = data['VideoAmt'].value_counts()\n",
    "photo_series = data['PhotoAmt'].value_counts()\n",
    "print(video_series.head(),'\\n') #Most pets do not have videos\n",
    "print(photo_series.head(10)) #Most pets have 1-5 photos, only a few pets dont have photo"
   ]
  },
  {
   "cell_type": "code",
   "execution_count": 931,
   "metadata": {},
   "outputs": [
    {
     "data": {
      "text/plain": [
       "(6994, 22)"
      ]
     },
     "execution_count": 931,
     "metadata": {},
     "output_type": "execute_result"
    }
   ],
   "source": [
    "#Most pets do not have video, drop this column\n",
    "data = data.drop('VideoAmt',axis = 1)\n",
    "data.shape"
   ]
  },
  {
   "cell_type": "code",
   "execution_count": 932,
   "metadata": {},
   "outputs": [
    {
     "name": "stdout",
     "output_type": "stream",
     "text": [
      "P-Value for Anova is:  0.24076217346119408\n"
     ]
    }
   ],
   "source": [
    "from scipy.stats import f_oneway\n",
    "\n",
    "CategoryGroupLists= data.groupby('PhotoAmt')['AdoptionSpeed'].apply(list)\n",
    "# Performing the ANOVA test\n",
    "# We accept the Assumption(H0: PhotoAmt and AdoptionSpeed is not related) only when P-Value bigger 0.05\n",
    "AnovaResults = f_oneway(*CategoryGroupLists)\n",
    "print('P-Value for Anova is: ', AnovaResults[1])\n",
    "#P-value <0.05, PhotoAmt is related with AdoptionSpeed"
   ]
  },
  {
   "cell_type": "markdown",
   "metadata": {},
   "source": [
    "#### Description - profile of pets, written in English, Malay or Chinese"
   ]
  },
  {
   "cell_type": "code",
   "execution_count": 933,
   "metadata": {},
   "outputs": [
    {
     "name": "stdout",
     "output_type": "stream",
     "text": [
      "There are 2 null values in Description column.\n"
     ]
    },
    {
     "data": {
      "text/plain": [
       "(6994, 21)"
      ]
     },
     "execution_count": 933,
     "metadata": {},
     "output_type": "execute_result"
    }
   ],
   "source": [
    "print(\"There are\",data.Description.isnull().sum(),\"null values in Description column.\")\n",
    "#We don't investigate the textual information, drop description attribute\n",
    "data = data.drop('Description',axis = 1)\n",
    "data.shape"
   ]
  },
  {
   "cell_type": "markdown",
   "metadata": {},
   "source": [
    "## Classification Algorithm"
   ]
  },
  {
   "cell_type": "code",
   "execution_count": 934,
   "metadata": {},
   "outputs": [
    {
     "data": {
      "text/plain": [
       "Index(['Age', 'Gender', 'MaturitySize', 'FurLength', 'Vaccinated', 'Dewormed',\n",
       "       'Sterilized', 'Health', 'Quantity', 'Fee', 'PhotoAmt', 'AdoptionSpeed',\n",
       "       'Have_Name', 'Pure', 'Color1_Name', 'Color2_Name', 'Color3_Name',\n",
       "       'Color_num', 'All_color', 'Free', 'StateName'],\n",
       "      dtype='object')"
      ]
     },
     "execution_count": 934,
     "metadata": {},
     "output_type": "execute_result"
    }
   ],
   "source": [
    "data.columns"
   ]
  },
  {
   "cell_type": "markdown",
   "metadata": {},
   "source": [
    "- Target attribution: AdoptionSpeed (categorical)\n",
    "\n",
    "\n",
    "- Indepednet variables:\n",
    "- Numerical: Age: 1-30, Quantity: 1-10, color_num = 1-3, PhotoAmt: 0-30, Fee\n",
    "- Text: StateName,Color1Name,Color2Name,Color3Name,All_color\n",
    "- Categorical: Age, Gender, MaturitySize,FurLength,Vaccinated,Dewormed,Sterilized,Health,Have_name,Pure,Free"
   ]
  },
  {
   "cell_type": "markdown",
   "metadata": {},
   "source": [
    "#### Train and Test set split"
   ]
  },
  {
   "cell_type": "code",
   "execution_count": 935,
   "metadata": {},
   "outputs": [
    {
     "name": "stdout",
     "output_type": "stream",
     "text": [
      "Train set shape (no label column): (5595, 20)\n",
      "Test set shape (no label column): (1399, 20)\n"
     ]
    }
   ],
   "source": [
    "from sklearn.model_selection import train_test_split\n",
    "\n",
    "y = data['AdoptionSpeed']\n",
    "X = data.drop('AdoptionSpeed',axis = 1)\n",
    "\n",
    "X_train, X_test, y_train, y_test = train_test_split(X, y, test_size=0.2)\n",
    "\n",
    "print(\"Train set shape (no label column):\", X_train.shape)\n",
    "print(\"Test set shape (no label column):\", X_test.shape)"
   ]
  }
 ],
 "metadata": {
  "kernelspec": {
   "display_name": "Python 3",
   "language": "python",
   "name": "python3"
  },
  "language_info": {
   "codemirror_mode": {
    "name": "ipython",
    "version": 3
   },
   "file_extension": ".py",
   "mimetype": "text/x-python",
   "name": "python",
   "nbconvert_exporter": "python",
   "pygments_lexer": "ipython3",
   "version": "3.7.4"
  }
 },
 "nbformat": 4,
 "nbformat_minor": 2
}
